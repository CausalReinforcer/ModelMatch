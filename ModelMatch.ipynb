{
 "metadata": {
  "name": "ModelMatch.ipynb"
 },
 "nbformat": 3,
 "nbformat_minor": 0,
 "worksheets": [
  {
   "cells": [
    {
     "cell_type": "markdown",
     "metadata": {},
     "source": [
      "Last modified 13 July 2014 by KO\n",
      "\n",
      "This notebook contains functions to implement model-based matching, including stratifying samples, computing test statistics, and conducting permutation tests."
     ]
    },
    {
     "cell_type": "code",
     "collapsed": false,
     "input": [
      "%matplotlib inline\n",
      "import math\n",
      "import numpy as np\n",
      "import scipy\n",
      "from scipy import stats\n",
      "import pandas as pd\n",
      "import matplotlib.pyplot as plt"
     ],
     "language": "python",
     "metadata": {},
     "outputs": [],
     "prompt_number": 48
    },
    {
     "cell_type": "code",
     "collapsed": false,
     "input": [
      "def binByQuantiles(predicted, g = 4):\n",
      "    ''' \n",
      "    Stratify observations by their predicted response values.\n",
      "    Use the quantiles of the sample to return g groups.\n",
      "    \n",
      "    Inputs: \n",
      "    predicted = pandas series containing model-predicted response\n",
      "    g = number of groups\n",
      "    \n",
      "    Dependencies: numpy (as np), stats from scipy, pandas as pd\n",
      "    '''\n",
      "    n = len(predicted)\n",
      "    q = (np.arange(g+1))*100.0/g\n",
      "    quantiles = stats.scoreatpercentile(predicted, q)\n",
      "    groups = pd.Series(np.zeros(n), index = predicted.index)\n",
      "    # problem - how to handle ties in the quantiles?\n",
      "    for i in np.arange(g)+1:\n",
      "        groups[predicted>quantiles[i]] += 1\n",
      "    print groups.value_counts()\n",
      "    return groups\n"
     ],
     "language": "python",
     "metadata": {},
     "outputs": [],
     "prompt_number": 49
    },
    {
     "cell_type": "code",
     "collapsed": false,
     "input": [
      "def stratifiedPermutationTestMean(group, condition, response, groups, conditions):\n",
      "    tst = 0.0\n",
      "    '''\n",
      "    Calculates difference in sample means between treatment conditions, within groups.\n",
      "    '''\n",
      "    c0 = condition == conditions[0]\n",
      "    c1 = condition == conditions[1]\n",
      "    for g in groups:\n",
      "        gg = group == g\n",
      "        x = gg & c0\n",
      "        y = gg & c1\n",
      "        if (any(x) & any(y)):\n",
      "            tst += response[x].mean() - response[y].mean()\n",
      "    return tst\n",
      "\n",
      "\n",
      "def permuteWithinGroups(group, condition, groups):\n",
      "    permuted = condition\n",
      "    for g in groups:\n",
      "        gg = group == g\n",
      "        permuted[gg] = np.random.permutation(condition[gg])      \n",
      "    return permuted\n",
      "\n",
      "\n",
      "def stratifiedPermutationTest(group, condition, response, iterations, testStatistic=stratifiedPermutationTestMean):\n",
      "    '''\n",
      "    Stratified permutation test using the sum of the differences in means between two conditions in\n",
      "    each group (stratum) as the test statistic.\n",
      "    The test statistic is\n",
      "        \\sum_{g in groups} [\n",
      "                            mean(response for cases in group g assigned to first condition) -\n",
      "                            mean(response for cases in group g assigned to second condition)\n",
      "                           ].\n",
      "    There should be at least one group and no more than two conditions.\n",
      "    Under the null hypothesis, all assignments to the two conditions that preserve the number of\n",
      "    cases assigned to the conditions are equally likely.\n",
      "    Groups in which all cases are assigned to the same condition are skipped; they do not contribute \n",
      "    to the p-value since all randomizations give the same contribution to the difference in means.\n",
      "    \n",
      "    Dependencies: numpy (as np)\n",
      "    '''   \n",
      "    groups = np.unique(group)\n",
      "    conditions = np.unique(condition) \n",
      "    if len(conditions) > 2:\n",
      "        raise ValueError('too many conditions:', conditions)\n",
      "    elif len(conditions) < 2:\n",
      "        return 1.0, 1.0, 1.0, np.nan, None\n",
      "    else:\n",
      "        tst = testStatistic(group, condition, response, groups, conditions)\n",
      "        dist = np.zeros(iterations)\n",
      "        for i in range(iterations):\n",
      "             dist[i] = testStatistic( group, \n",
      "                                      permuteWithinGroups(group, condition, groups),\n",
      "                                      response, groups, conditions\n",
      "                                    )\n",
      "            \n",
      "    # define the conditions, then map count_nonzero over them\n",
      "        conds = [dist <= tst, dist >= tst, abs(dist) >= abs(tst)]\n",
      "        pLeft, pRight, pBoth = np.array(map(np.count_nonzero, conds))/float(iterations)\n",
      "        return pLeft, pRight, pBoth, tst, dist"
     ],
     "language": "python",
     "metadata": {},
     "outputs": [],
     "prompt_number": 50
    },
    {
     "cell_type": "markdown",
     "metadata": {},
     "source": [
      "Example code for how to call the functions.\n",
      "Question: does the treatment help explain/predict RE78?"
     ]
    },
    {
     "cell_type": "code",
     "collapsed": false,
     "input": [
      "names = ['Treated', 'Age', 'Education', 'Black', 'Hispanic', 'Married',\n",
      "         'Nodegree', 'RE74', 'RE75', 'RE78']\n",
      "treated = pd.read_table('nswre74_treated.txt', sep = '\\s+',\n",
      "                        header = None, names = names)\n",
      "control = pd.read_table('nswre74_control.txt', sep='\\s+', \n",
      "                        header = None, names = names)\n",
      "data = pd.concat([treated, control])\n",
      "data.head()\n",
      "\n",
      "\n",
      "\n",
      "pred = data.RE78 + random.random(445)  #+ (5000*(data.Treated == 1))*random.random(445)\n",
      "bins = binByQuantiles(pred)\n",
      "pLeft, pRight, pBoth, tst, dist = stratifiedPermutationTest(bins, data.Treated,\n",
      "                                  data.RE78, 1000, testStatistic=stratifiedPermutationTestMean)\n",
      "print pLeft, pRight, pBoth, tst"
     ],
     "language": "python",
     "metadata": {},
     "outputs": [
      {
       "output_type": "stream",
       "stream": "stdout",
       "text": [
        "0    112\n",
        "3    111\n",
        "2    111\n",
        "1    111\n",
        "dtype: int64\n",
        "0.057"
       ]
      },
      {
       "output_type": "stream",
       "stream": "stdout",
       "text": [
        " 0.943 0.105 -2325.03617584\n"
       ]
      }
     ],
     "prompt_number": 68
    },
    {
     "cell_type": "code",
     "collapsed": false,
     "input": [],
     "language": "python",
     "metadata": {},
     "outputs": []
    }
   ],
   "metadata": {}
  }
 ]
}