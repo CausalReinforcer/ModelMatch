{
 "metadata": {
  "name": "CompareMethods.ipynb"
 },
 "nbformat": 3,
 "nbformat_minor": 0,
 "worksheets": [
  {
   "cells": [
    {
     "cell_type": "code",
     "collapsed": false,
     "input": [
      "%matplotlib inline\n",
      "import math\n",
      "import numpy as np\n",
      "import scipy\n",
      "import pandas as pd\n",
      "import matplotlib.pyplot as plt\n",
      "from ModelMatch import binByQuantiles\n",
      "from PSM import *\n",
      "import statsmodels.api as sm"
     ],
     "language": "python",
     "metadata": {},
     "outputs": [],
     "prompt_number": 1
    },
    {
     "cell_type": "markdown",
     "metadata": {},
     "source": [
      "<b>Goal:</b> find the average treatment effect in the treatment group (ATT) on RE78.\n",
      "\n",
      "<b>Import the data:</b> controls and treated from Lalonde/Dehejia papers.  Here's what the site says about the data:\n",
      "\n",
      "The variables from left to right are: treatment indicator (1 if treated, 0 if not treated), age, education, Black (1 if black, 0 otherwise), Hispanic (1 if Hispanic, 0 otherwise), married (1 if married, 0 otherwise), nodegree (1 if no degree, 0 otherwise), RE74 (earnings in 1974), RE75 (earnings in 1975), and RE78 (earnings in 1978).\n",
      "\n",
      "http://users.nber.org/%7Erdehejia/nswdata2.html"
     ]
    },
    {
     "cell_type": "code",
     "collapsed": false,
     "input": [
      "names = ['Treated', 'Age', 'Education', 'Black', 'Hispanic', 'Married',\n",
      "         'Nodegree', 'RE74', 'RE75', 'RE78']\n",
      "treated = pd.read_table('/Users/Kellie/Documents/ModelMatch/Data/nswre74_treated.txt', sep = '\\s+',\n",
      "                        header = None, names = names)\n",
      "treated['dataset'] = pd.Series(['treated']*len(treated.index))\n",
      "control = pd.read_table('/Users/Kellie/Documents/ModelMatch/Data/nswre74_control.txt', sep='\\s+', \n",
      "                        header = None, names = names)\n",
      "control['dataset'] = pd.Series(['control']*len(control.index))\n",
      "cps = pd.read_table('/Users/Kellie/Documents/ModelMatch/Data/cps_controls.txt', sep='\\s+', \n",
      "                        header = None, names = names)\n",
      "cps['dataset'] = pd.Series(['CPS']*len(cps.index))\n",
      "psid = pd.read_table('/Users/Kellie/Documents/ModelMatch/Data/psid_controls.txt', sep='\\s+', \n",
      "                        header = None, names = names)\n",
      "psid['dataset'] = pd.Series(['PSID']*len(psid.index))\n",
      "data = pd.concat([treated, cps])\n",
      "data.index = range(len(data.index))\n",
      "#print data.head()\n",
      "\n",
      "# Verify some characteristics match the Dehejia & Wahba paper, see table 1\n",
      "print mean(treated.Age), mean(control.Age)\n",
      "print mean(treated.Education), mean(control.Education)\n",
      "print mean(treated.Black), mean(control.Black)"
     ],
     "language": "python",
     "metadata": {},
     "outputs": [
      {
       "output_type": "stream",
       "stream": "stdout",
       "text": [
        "25.8162162162 25.0538461538\n",
        "10.3459459459 10.0884615385\n",
        "0.843243243243 0.826923076923\n"
       ]
      }
     ],
     "prompt_number": 2
    },
    {
     "cell_type": "markdown",
     "metadata": {},
     "source": [
      "<b>Compute propensity scores</b> to start.  We need to compute some additional variables that Dehejia and Wahba use in the model for propensity scores.  Refer to the appendix of their paper to see how they decided to include these variables."
     ]
    },
    {
     "cell_type": "code",
     "collapsed": false,
     "input": [
      "data['Age2'] = data['Age']**2\n",
      "data['Age3'] = data['Age']**3\n",
      "data['Education2'] = data['Education']**2\n",
      "# I originally assumed unemployment would be 1 if RE74 were 0 and 0 else; this is not the case.\n",
      "# The indicator is actually flipped in table 2, row 1 (the mean there is 1-mean here); doesn't matter for the model\n",
      "data['U74'] = (data['RE74']==0).astype('int')   \n",
      "data['U75'] = (data['RE75']==0).astype('int')\n",
      "data['SchoolRE74'] = data['Education']*data['RE74']\n",
      "\n",
      "\n",
      "predictors = [col for col in data.columns if col not in ['Treated', 'RE78', 'dataset']]\n",
      "data['Propensity'] = computePropensityScore(data[predictors], data.Treated)\n",
      "\n",
      "pairs = Match(data.Treated, data.Propensity, caliper = 0, caliper_method = \"none\", replace = False)\n",
      "manypairs = MatchMany(data.Treated, data.Propensity, method = \"caliper\", caliper = 0.00001)\n",
      "data_matched = whichMatched(pairs, data) \n",
      "data_manymatched = whichMatched(manypairs, data, many = True)\n",
      "data_manymatched_unique = whichMatched(manypairs, data, many = True, unique = True)\n",
      "print \"Unmatched treated individuals, 1-1 matching: \" + str(len(data.Treated[data.Treated==1]) - len(pairs.keys()))\n",
      "print pairs.items()[:5], '\\n' # The first 5 matched pairs, (treated, control)\n",
      "print \"Unmatched treated individuals, 1-many matching: \" + str(len(data.Treated[data.Treated==1]) - len(manypairs.keys()))\n",
      "print manypairs.items()[:5]"
     ],
     "language": "python",
     "metadata": {},
     "outputs": [
      {
       "output_type": "stream",
       "stream": "stdout",
       "text": [
        "Unmatched treated individuals, 1-1 matching: 0\n",
        "[(0, 2778), (1, 2546), (2, 3545), (3, 16161), (4, 13548)] \n",
        "\n",
        "Unmatched treated individuals, 1-many matching: 0\n",
        "[(0, [2778]), (1, [2546]), (2, array([1843])), (3, [6276]), (4, [6276])]\n"
       ]
      }
     ],
     "prompt_number": 14
    },
    {
     "cell_type": "code",
     "collapsed": false,
     "input": [
      "# Balance diagnostics:\n",
      "print 'Before matching:'\n",
      "means, se = Balance(data.Treated, data[names[1:-1]])\n",
      "for i in range(len(means)):\n",
      "    print 'Difference in ' + means.keys()[i] + ' means:' + str(means[i]) + '+/-' + str(se[i])\n",
      "print '\\nOne-one matching:'\n",
      "means, se = Balance(data_matched.Treated, data_matched[names[1:-1]])\n",
      "for i in range(len(means)):\n",
      "    print 'Difference in ' + means.keys()[i] + ' means:' + str(means[i]) + '+/-' + str(se[i])\n",
      "print '\\nOne-many matching:'\n",
      "means, se = Balance(data_manymatched.Treated, data_manymatched[names[1:-1]])\n",
      "for i in range(len(means)):\n",
      "    print 'Difference in ' + means.keys()[i] + ' means:' + str(means[i]) + '+/-' + str(se[i])"
     ],
     "language": "python",
     "metadata": {},
     "outputs": [
      {
       "output_type": "stream",
       "stream": "stdout",
       "text": [
        "Before matching:\n",
        "Difference in Age means:7.40902140259+/-0.533249063921\n",
        "Difference in Education means:1.68156781093+/-0.149558944537\n",
        "Difference in Black means:0.769706474859+/-0.0268821908191\n",
        "Difference in Hispanic means:0.0125765585495+/-0.0175532115458\n",
        "Difference in Married means:0.522541676244+/-0.0290948059845\n",
        "Difference in Nodegree means:0.412272690399+/-0.0337097591917\n",
        "Difference in RE74 means:11921.2266155+/-367.154827272\n",
        "Difference in RE75 means:12118.7480623+/-247.77669602\n",
        "\n",
        "One-one matching:\n",
        "Difference in Age means:0.108108108108+/-0.787348351265\n",
        "Difference in Education means:0.324324324324+/-0.215085173326\n",
        "Difference in Black means:0.027027027027+/-0.0391618284487\n",
        "Difference in Hispanic means:0.027027027027+/-0.0270798543645\n",
        "Difference in Married means:0.00540540540541+/-0.0410543236504\n",
        "Difference in Nodegree means:0.108108108108+/-0.0492713766971\n",
        "Difference in RE74 means:402.925762162+/-499.866147474\n",
        "Difference in RE75 means:31.4650154595+/-309.964340244\n",
        "\n",
        "One-many matching:\n",
        "Difference in Age means:0.108009529286+/-0.666563447577\n",
        "Difference in Education means:0.699646759221+/-0.182203225322\n",
        "Difference in Black means:0.283972726526+/-0.0383389683109\n",
        "Difference in Hispanic means:0.013488868808+/-0.0225857131388\n",
        "Difference in Married means:0.0691694734248+/-0.037654383357\n",
        "Difference in Nodegree means:0.182272241847+/-0.0433990877894\n",
        "Difference in RE74 means:1598.71028099+/-493.280311533\n",
        "Difference in RE75 means:1284.82412479+/-359.176325456\n"
       ]
      }
     ],
     "prompt_number": 15
    },
    {
     "cell_type": "code",
     "collapsed": false,
     "input": [
      "# For one-one matching:\n",
      "g1, g2 = data.Propensity[data.Treated==1], data.Propensity[data.Treated==0]\n",
      "print \"The first five matched pairs of propensity scores: \" + str(zip(g1[pairs.keys()], g2[pairs.values()])[:5])\n",
      "print \"Mean propensity score for treatment group:\" + str(mean(g1))\n",
      "print \"Mean propensity score for matched treatment group:\" + str(mean(data_matched.Propensity[data_matched.Treated == 1]))\n",
      "print \"Mean propensity score for control group:\" + str(mean(g2))\n",
      "print \"Mean propensity score for matched controls:\" + str(mean(data_matched.Propensity[data_matched.Treated == 0]))\n",
      "\n",
      "\n",
      "print \"Estimated average treatment effect:\" + str(averageTreatmentEffect(groups = data_matched.Treated, response = data_matched.RE78, matches = pairs))\n",
      "#print \"Bootstrap SE: \" + str(bootstrapATE(groups = data.Treated, response = data.RE78, propensity = data.Propensity, B = 100, caliper = 0, replace = False))\n",
      "\n",
      "lmEstim, lmSE = regressAverageTreatmentEffect(data_matched.Treated, data_matched.RE78, data_matched[names[1:-1]])\n",
      "print \"Estimated ATE by regression:\" + str(lmEstim) + \"+/-\" + str(lmSE)"
     ],
     "language": "python",
     "metadata": {},
     "outputs": [
      {
       "output_type": "stream",
       "stream": "stdout",
       "text": [
        "The first five matched pairs of propensity scores: [(0.38005971478251976, 0.38080650870694693), (0.427485619160409, 0.2253566166250538), (0.68103202873174995, 0.44549083440866677), (0.89355590447212552, 0.23326588973682777), (0.89929364680678292, 0.85867876518147201)]\n",
        "Mean propensity score for treatment group:0.422046890794\n",
        "Mean propensity score for matched treatment group:0.422046890794\n",
        "Mean propensity score for control group:0.00668592578807\n",
        "Mean propensity score for matched controls:0.299531692134\n",
        "Estimated average treatment effect:1043.92140276\n",
        "Estimated ATE by regression:1431.83204908+/-730.007161894\n"
       ]
      }
     ],
     "prompt_number": 10
    },
    {
     "cell_type": "code",
     "collapsed": false,
     "input": [
      "# For one-many matching:\n",
      "print \"The first five matched pairs of propensity scores:\"\n",
      "for i in range(5):\n",
      "    print g1[manypairs.keys()[i]], list(g2[manypairs.values()[i]])\n",
      "print '\\n'\n",
      "print \"Mean propensity score for treatment group:\" + str(mean(g1))\n",
      "print \"Mean propensity score for matched treatment group:\" + str(mean(data_manymatched.Propensity[data_manymatched.Treated == 1]))\n",
      "print \"Mean propensity score for control group:\" + str(mean(g2))\n",
      "print \"Mean propensity score for matched controls:\" + str(mean(data_manymatched.Propensity[data_manymatched.Treated == 0]))\n",
      "\n",
      "print \"Estimated average treatment effect:\" + str(averageTreatmentEffect(groups = data_manymatched_unique.Treated, response = data_manymatched_unique.RE78, matches = manypairs))\n",
      "#print \"Bootstrap SE: \" + str(bootstrapManyATE(groups = data.Treated, response = data.RE78, propensity = data.Propensity, method = \"knn\", k = 2, B = 100))\n",
      "\n",
      "lmEstim, lmSE = regressAverageTreatmentEffect(data_manymatched_unique.Treated, data_manymatched_unique.RE78, data_manymatched_unique[names[1:-1]], matches = manypairs, verbosity = 1)\n",
      "print \"Estimated ATE by regression:\" + str(lmEstim) + \"+/-\" + str(lmSE)"
     ],
     "language": "python",
     "metadata": {},
     "outputs": [
      {
       "output_type": "stream",
       "stream": "stdout",
       "text": [
        "The first five matched pairs of propensity scores:\n",
        "0.380059714783 [0.38080650870694693]\n",
        "0.42748561916 [0.43365746510047776]\n",
        "0.681032028732 [0.68103202873174995]\n",
        "0.893555904472 [0.89962080688960111]\n",
        "0.899293646807 [0.89962080688960111]\n",
        "\n",
        "\n",
        "Mean propensity score for treatment group:0.422046890794\n",
        "Mean propensity score for matched treatment group:0.422163882458\n",
        "Mean propensity score for control group:0.00668592578807\n",
        "Mean propensity score for matched controls:0.262439939641\n",
        "Estimated average treatment effect:1314.75384325"
       ]
      },
      {
       "output_type": "stream",
       "stream": "stdout",
       "text": [
        "\n",
        "1    387\n",
        "2     21\n",
        "3      8\n",
        "4      4\n",
        "5      3\n",
        "9      1\n",
        "8      1\n",
        "7      1\n",
        "6      1\n",
        "dtype: int64 (427,)\n",
        "Estimated ATE by regression:1417.27367059+/-741.280944824\n"
       ]
      }
     ],
     "prompt_number": 16
    },
    {
     "cell_type": "code",
     "collapsed": false,
     "input": [],
     "language": "python",
     "metadata": {},
     "outputs": [],
     "prompt_number": 10
    },
    {
     "cell_type": "code",
     "collapsed": false,
     "input": [],
     "language": "python",
     "metadata": {},
     "outputs": []
    }
   ],
   "metadata": {}
  }
 ]
}