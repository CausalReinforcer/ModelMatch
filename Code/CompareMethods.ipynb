{
 "metadata": {
  "name": "CompareMethods.ipynb"
 },
 "nbformat": 3,
 "nbformat_minor": 0,
 "worksheets": [
  {
   "cells": [
    {
     "cell_type": "code",
     "collapsed": false,
     "input": [
      "%matplotlib inline\n",
      "import math\n",
      "import numpy as np\n",
      "import scipy\n",
      "import pandas as pd\n",
      "import matplotlib.pyplot as plt\n",
      "from ModelMatch import binByQuantiles\n",
      "from PSM import *\n",
      "import statsmodels.api as sm"
     ],
     "language": "python",
     "metadata": {},
     "outputs": [],
     "prompt_number": 1
    },
    {
     "cell_type": "markdown",
     "metadata": {},
     "source": [
      "<b>Goal:</b> find the average treatment effect in the treatment group (ATT) on RE78.\n",
      "\n",
      "<b>Import the data:</b> controls and treated from Lalonde/Dehejia papers.  Here's what the site says about the data:\n",
      "\n",
      "The variables from left to right are: treatment indicator (1 if treated, 0 if not treated), age, education, Black (1 if black, 0 otherwise), Hispanic (1 if Hispanic, 0 otherwise), married (1 if married, 0 otherwise), nodegree (1 if no degree, 0 otherwise), RE74 (earnings in 1974), RE75 (earnings in 1975), and RE78 (earnings in 1978).\n",
      "\n",
      "http://users.nber.org/%7Erdehejia/nswdata2.html"
     ]
    },
    {
     "cell_type": "code",
     "collapsed": false,
     "input": [
      "names = ['Treated', 'Age', 'Education', 'Black', 'Hispanic', 'Married',\n",
      "         'Nodegree', 'RE74', 'RE75', 'RE78']\n",
      "treated = pd.read_table('/Users/Kellie/Documents/ModelMatch/Data/nswre74_treated.txt', sep = '\\s+',\n",
      "                        header = None, names = names)\n",
      "treated['dataset'] = pd.Series(['treated']*len(treated.index))\n",
      "control = pd.read_table('/Users/Kellie/Documents/ModelMatch/Data/nswre74_control.txt', sep='\\s+', \n",
      "                        header = None, names = names)\n",
      "control['dataset'] = pd.Series(['control']*len(control.index))\n",
      "cps = pd.read_table('/Users/Kellie/Documents/ModelMatch/Data/cps_controls.txt', sep='\\s+', \n",
      "                        header = None, names = names)\n",
      "cps['dataset'] = pd.Series(['CPS']*len(cps.index))\n",
      "psid = pd.read_table('/Users/Kellie/Documents/ModelMatch/Data/psid_controls.txt', sep='\\s+', \n",
      "                        header = None, names = names)\n",
      "psid['dataset'] = pd.Series(['PSID']*len(psid.index))\n",
      "data = pd.concat([treated, cps])\n",
      "data.index = range(len(data.index))\n",
      "#print data.head()\n",
      "\n",
      "# Verify some characteristics match the Dehejia & Wahba paper, see table 1\n",
      "print mean(treated.Age), mean(control.Age)\n",
      "print mean(treated.Education), mean(control.Education)\n",
      "print mean(treated.Black), mean(control.Black)"
     ],
     "language": "python",
     "metadata": {},
     "outputs": [
      {
       "output_type": "stream",
       "stream": "stdout",
       "text": [
        "25.8162162162 25.0538461538\n",
        "10.3459459459 10.0884615385\n",
        "0.843243243243 0.826923076923\n"
       ]
      }
     ],
     "prompt_number": 2
    },
    {
     "cell_type": "markdown",
     "metadata": {},
     "source": [
      "<b>Compute propensity scores</b> to start.  We need to compute some additional variables that Dehejia and Wahba use in the model for propensity scores.  Refer to the appendix of their paper to see how they decided to include these variables."
     ]
    },
    {
     "cell_type": "code",
     "collapsed": false,
     "input": [
      "data['Age2'] = data['Age']**2\n",
      "data['Age3'] = data['Age']**3\n",
      "data['Education2'] = data['Education']**2\n",
      "# I originally assumed unemployment would be 1 if RE74 were 0 and 0 else; this is not the case.\n",
      "# The indicator is actually flipped in table 2, row 1 (the mean there is 1-mean here); doesn't matter for the model\n",
      "data['U74'] = (data['RE74']==0).astype('int')   \n",
      "data['U75'] = (data['RE75']==0).astype('int')\n",
      "data['SchoolRE74'] = data['Education']*data['RE74']\n",
      "\n",
      "\n",
      "predictors = [col for col in data.columns if col not in ['Treated', 'RE78', 'dataset']]\n",
      "data['Propensity'] = computePropensityScore(data[predictors], data.Treated)\n",
      "\n",
      "pairs = Match(data.Treated, data.Propensity, caliper = 0, caliper_method = \"propensity\", replace = False)\n",
      "manypairs = MatchMany(data.Treated, data.Propensity, method = \"knn\", k=1)\n",
      "data_matched = whichMatched(pairs, data) \n",
      "data_manymatched = whichMatched(manypairs, data, many = True)\n",
      "print \"Unmatched treated individuals, 1-1 matching: \" + str(len(data.Treated[data.Treated==1]) - len(pairs.keys()))\n",
      "print pairs.items()[:5], '\\n' # The first 5 matched pairs, (treated, control)\n",
      "print \"Unmatched treated individuals, 1-many matching: \" + str(len(data.Treated[data.Treated==1]) - len(manypairs.keys()))\n",
      "print manypairs.items()[:5]"
     ],
     "language": "python",
     "metadata": {},
     "outputs": [
      {
       "output_type": "stream",
       "stream": "stdout",
       "text": [
        "Unmatched treated individuals, 1-1 matching: 0\n",
        "[(0, 1827), (1, 2546), (2, 469), (3, 7503), (4, 10421)] \n",
        "\n",
        "Unmatched treated individuals, 1-many matching: 0\n",
        "[(0, array([2778])), (1, array([2546])), (2, array([1843])), (3, array([6276])), (4, array([6276]))]\n"
       ]
      }
     ],
     "prompt_number": 7
    },
    {
     "cell_type": "code",
     "collapsed": false,
     "input": [
      "# Diagnostics to make sure we're getting reasonable dimension results\n",
      "print data_matched.shape\n",
      "print len(data_matched.Treated[data_matched.Treated == 0])\n",
      "print data_manymatched.shape\n",
      "print len(data_manymatched[data_manymatched.Treated == 0].index), len(data_manymatched[data_manymatched.Treated == 0].index.unique())\n"
     ],
     "language": "python",
     "metadata": {},
     "outputs": [
      {
       "output_type": "stream",
       "stream": "stdout",
       "text": [
        "(370, 18)\n",
        "185\n",
        "(412, 18)\n",
        "227 132\n"
       ]
      }
     ],
     "prompt_number": 8
    },
    {
     "cell_type": "code",
     "collapsed": false,
     "input": [
      "# For one-one matching:\n",
      "g1, g2 = data.Propensity[data.Treated==1], data.Propensity[data.Treated==0]\n",
      "print \"The first five matched pairs of propensity scores: \" + str(zip(g1[pairs.keys()], g2[pairs.values()])[:5])\n",
      "print \"Mean propensity score for treatment group:\" + str(mean(g1))\n",
      "print \"Mean propensity score for matched treatment group:\" + str(mean(data_matched.Propensity[data_matched.Treated == 1]))\n",
      "print \"Mean propensity score for control group:\" + str(mean(g2))\n",
      "print \"Mean propensity score for matched controls:\" + str(mean(data_matched.Propensity[data_matched.Treated == 0]))\n",
      "\n",
      "\n",
      "print \"Estimated average treatment effect:\" + str(averageTreatmentEffect(groups = data_matched.Treated, response = data_matched.RE78, matches = pairs))\n",
      "#print \"Bootstrap SE: \" + str(bootstrapATE(groups = data.Treated, response = data.RE78, propensity = data.Propensity, B = 100, caliper = 0, replace = False))\n",
      "\n",
      "lmEstim, lmSE = regressAverageTreatmentEffect(data_matched.Treated, data_matched.RE78, data_matched[names[1:-1]])\n",
      "print \"Estimated ATE by regression:\" + str(lmEstim) + \"+/-\" + str(lmSE)"
     ],
     "language": "python",
     "metadata": {},
     "outputs": [
      {
       "output_type": "stream",
       "stream": "stdout",
       "text": [
        "The first five matched pairs of propensity scores: [(0.38005971478251976, 0.23471117657926893), (0.427485619160409, 0.43365746510047776), (0.68103202873174995, 0.2966270167709264), (0.89355590447212552, 0.52572894140458615), (0.89929364680678292, 0.2645729252354897)]\n",
        "Mean propensity score for treatment group:0.422046890794\n",
        "Mean propensity score for matched treatment group:0.422046890794\n",
        "Mean propensity score for control group:0.00668592578807\n",
        "Mean propensity score for matched controls:0.299531692134\n",
        "Estimated average treatment effect:1043.92140276\n",
        "Estimated ATE by regression:1431.83204908+/-730.007161894\n"
       ]
      }
     ],
     "prompt_number": 9
    },
    {
     "cell_type": "code",
     "collapsed": false,
     "input": [
      "# For one-many matching:\n",
      "print \"The first five matched pairs of propensity scores:\"\n",
      "for i in range(5):\n",
      "    print g1[manypairs.keys()[i]], list(g2[manypairs.values()[i]])\n",
      "print '\\n'\n",
      "print \"Mean propensity score for treatment group:\" + str(mean(g1))\n",
      "print \"Mean propensity score for matched treatment group:\" + str(mean(data_manymatched.Propensity[data_manymatched.Treated == 1]))\n",
      "print \"Mean propensity score for control group:\" + str(mean(g2))\n",
      "print \"Mean propensity score for matched controls:\" + str(mean(data_manymatched.Propensity[data_manymatched.Treated == 0]))\n",
      "\n",
      "print \"Estimated average treatment effect:\" + str(averageTreatmentEffect(groups = data_manymatched.Treated, response = data_manymatched.RE78, matches = manypairs))\n",
      "#print \"Bootstrap SE: \" + str(bootstrapManyATE(groups = data.Treated, response = data.RE78, propensity = data.Propensity, method = \"knn\", k = 2, B = 100))\n",
      "\n",
      "lmEstim, lmSE = regressAverageTreatmentEffect(data_manymatched.Treated, data_manymatched.RE78, data_manymatched[names[1:-1]], matches = manypairs)\n",
      "print \"Estimated ATE by regression:\" + str(lmEstim) + \"+/-\" + str(lmSE)"
     ],
     "language": "python",
     "metadata": {},
     "outputs": [
      {
       "output_type": "stream",
       "stream": "stdout",
       "text": [
        "The first five matched pairs of propensity scores:\n",
        "0.380059714783 [0.38080650870694693]\n",
        "0.42748561916 [0.43365746510047776]\n",
        "0.681032028732 [0.68103202873174995]\n",
        "0.893555904472 [0.89962080688960111]\n",
        "0.899293646807 [0.89962080688960111]\n",
        "\n",
        "\n",
        "Mean propensity score for treatment group:0.422046890794\n",
        "Mean propensity score for matched treatment group:0.422046890794\n",
        "Mean propensity score for control group:0.00668592578807\n",
        "Mean propensity score for matched controls:0.398782413292\n",
        "Estimated average treatment effect:1503.03956655\n",
        "1.000000    274\n",
        "0.500000     42\n",
        "0.333333     30\n",
        "0.200000     20\n",
        "0.250000     16\n",
        "0.111111      9\n",
        "0.125000      8\n",
        "0.142857      7\n",
        "0.166667      6\n",
        "dtype: int64"
       ]
      },
      {
       "output_type": "stream",
       "stream": "stdout",
       "text": [
        "\n",
        "Estimated ATE by regression:1460.90795792+/-739.38823769\n"
       ]
      }
     ],
     "prompt_number": 10
    },
    {
     "cell_type": "code",
     "collapsed": false,
     "input": [
      "Stratify(data.Treated, data.RE78, data.Propensity, nbins = 10, verbosity = 2)"
     ],
     "language": "python",
     "metadata": {},
     "outputs": [
      {
       "ename": "NameError",
       "evalue": "global name 'arange' is not defined",
       "output_type": "pyerr",
       "traceback": [
        "\u001b[0;31m---------------------------------------------------------------------------\u001b[0m\n\u001b[0;31mNameError\u001b[0m                                 Traceback (most recent call last)",
        "\u001b[0;32m<ipython-input-7-73512a18523f>\u001b[0m in \u001b[0;36m<module>\u001b[0;34m()\u001b[0m\n\u001b[0;32m----> 1\u001b[0;31m \u001b[0mStratify\u001b[0m\u001b[0;34m(\u001b[0m\u001b[0mdata\u001b[0m\u001b[0;34m.\u001b[0m\u001b[0mTreated\u001b[0m\u001b[0;34m,\u001b[0m \u001b[0mdata\u001b[0m\u001b[0;34m.\u001b[0m\u001b[0mRE78\u001b[0m\u001b[0;34m,\u001b[0m \u001b[0mdata\u001b[0m\u001b[0;34m.\u001b[0m\u001b[0mPropensity\u001b[0m\u001b[0;34m,\u001b[0m \u001b[0mnbins\u001b[0m \u001b[0;34m=\u001b[0m \u001b[0;36m10\u001b[0m\u001b[0;34m,\u001b[0m \u001b[0mverbosity\u001b[0m \u001b[0;34m=\u001b[0m \u001b[0;36m2\u001b[0m\u001b[0;34m)\u001b[0m\u001b[0;34m\u001b[0m\u001b[0m\n\u001b[0m",
        "\u001b[0;32m/Users/Kellie/Documents/ModelMatch/Code/PSM.py\u001b[0m in \u001b[0;36mStratify\u001b[0;34m(groups, response, propensity, nbins, verbosity)\u001b[0m\n\u001b[1;32m    386\u001b[0m     \u001b[0mbins\u001b[0m \u001b[0;34m=\u001b[0m \u001b[0mbinByQuantiles\u001b[0m\u001b[0;34m(\u001b[0m\u001b[0mpropensity\u001b[0m\u001b[0;34m,\u001b[0m \u001b[0mnbins\u001b[0m \u001b[0;34m=\u001b[0m \u001b[0mnbins\u001b[0m\u001b[0;34m,\u001b[0m \u001b[0mverbosity\u001b[0m \u001b[0;34m=\u001b[0m \u001b[0mverbosity\u001b[0m\u001b[0;34m)\u001b[0m\u001b[0;34m\u001b[0m\u001b[0m\n\u001b[1;32m    387\u001b[0m     \u001b[0mate\u001b[0m \u001b[0;34m=\u001b[0m \u001b[0mnp\u001b[0m\u001b[0;34m.\u001b[0m\u001b[0mempty\u001b[0m\u001b[0;34m(\u001b[0m\u001b[0mnbins\u001b[0m\u001b[0;34m)\u001b[0m\u001b[0;34m\u001b[0m\u001b[0m\n\u001b[0;32m--> 388\u001b[0;31m     \u001b[0;32mfor\u001b[0m \u001b[0mb\u001b[0m \u001b[0;32min\u001b[0m \u001b[0marange\u001b[0m\u001b[0;34m(\u001b[0m\u001b[0mnbins\u001b[0m\u001b[0;34m)\u001b[0m\u001b[0;34m:\u001b[0m\u001b[0;34m\u001b[0m\u001b[0m\n\u001b[0m\u001b[1;32m    389\u001b[0m         \u001b[0mstratum\u001b[0m \u001b[0;34m=\u001b[0m \u001b[0;34m(\u001b[0m\u001b[0mbins\u001b[0m \u001b[0;34m==\u001b[0m \u001b[0mb\u001b[0m\u001b[0;34m)\u001b[0m\u001b[0;34m\u001b[0m\u001b[0m\n\u001b[1;32m    390\u001b[0m         \u001b[0mresponse0\u001b[0m \u001b[0;34m=\u001b[0m \u001b[0mresponse\u001b[0m\u001b[0;34m[\u001b[0m\u001b[0;34m(\u001b[0m\u001b[0mstratum\u001b[0m\u001b[0;34m==\u001b[0m\u001b[0;36m1\u001b[0m\u001b[0;34m)\u001b[0m \u001b[0;34m&\u001b[0m \u001b[0;34m(\u001b[0m\u001b[0mgroups\u001b[0m\u001b[0;34m==\u001b[0m\u001b[0;36m0\u001b[0m\u001b[0;34m)\u001b[0m\u001b[0;34m]\u001b[0m\u001b[0;34m\u001b[0m\u001b[0m\n",
        "\u001b[0;31mNameError\u001b[0m: global name 'arange' is not defined"
       ]
      },
      {
       "output_type": "stream",
       "stream": "stdout",
       "text": [
        "\n",
        "Quantiles used for binning:\n",
        "[  1.17678550e-09   3.63103873e-06   1.19099105e-05   2.90089048e-05\n",
        "   5.57234388e-05   1.24658426e-04   2.81818150e-04   6.56498537e-04\n",
        "   1.83884006e-03   7.39112320e-03   9.38455427e-01]\n",
        "\n",
        "Number of observations assigned to each bin:\n",
        "2    1581\n",
        "1    1593\n",
        "7    1617\n",
        "5    1617\n",
        "9    1618\n",
        "8    1618\n",
        "6    1618\n",
        "4    1618\n",
        "0    1643\n",
        "3    1654\n",
        "dtype: int64\n"
       ]
      }
     ],
     "prompt_number": 7
    },
    {
     "cell_type": "code",
     "collapsed": false,
     "input": [],
     "language": "python",
     "metadata": {},
     "outputs": []
    }
   ],
   "metadata": {}
  }
 ]
}