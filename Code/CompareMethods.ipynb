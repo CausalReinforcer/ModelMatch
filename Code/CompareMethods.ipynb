{
 "metadata": {
  "name": "CompareMethods.ipynb"
 },
 "nbformat": 3,
 "nbformat_minor": 0,
 "worksheets": [
  {
   "cells": [
    {
     "cell_type": "code",
     "collapsed": false,
     "input": [
      "%matplotlib inline\n",
      "import math\n",
      "import numpy as np\n",
      "import scipy\n",
      "import pandas as pd\n",
      "import matplotlib.pyplot as plt\n",
      "from ModelMatch import *\n",
      "from PSM import *\n",
      "import statsmodels.api as sm"
     ],
     "language": "python",
     "metadata": {},
     "outputs": [],
     "prompt_number": 5
    },
    {
     "cell_type": "code",
     "collapsed": false,
     "input": [
      "def runMatching(treatment_data, control_data, dataset = \"cps\", many = \"onemany\", method = \"caliper\", k = 1, caliper = 0.05, caliper_method = \"propensity\", replace = False, B=500, verbosity=0):\n",
      "    '''\n",
      "    Automate the process of computing propensity scores, matching, and estimating ATT for the Dehejia & Wahba data\n",
      "    \n",
      "    Inputs:\n",
      "    treatment_data: put in treated\n",
      "    control_data: put in either cps or psid\n",
      "    dataset: string indicating which control_data used\n",
      "    many: either \"onemany\" or \"oneone\"\n",
      "    method, k, caliper, caliper_method, replace: inputs for matching methods\n",
      "    B: number of bootstrap replicates (default 500)\n",
      "    verbosity: default 0 for minimal printed output. Set 1 for text, 2 for text and plots\n",
      "    '''\n",
      "    \n",
      "    \n",
      "    data = pd.concat([treatment_data, control_data])\n",
      "    data.index = range(len(data.index))\n",
      "    \n",
      "    matchfun = dict( \\\n",
      "                 oneone = lambda groups, propensity: Match(groups, propensity, caliper = caliper, caliper_method = caliper_method, replace = replace),\n",
      "                 onemany = lambda groups, propensity: MatchMany(groups, propensity, method = method, k = k, caliper = caliper, caliper_method = caliper_method, replace = replace)\n",
      "                 )\n",
      "    try:\n",
      "        matchmethod = matchfun[many]\n",
      "    except KeyError:\n",
      "        raise ValueError(\"Unrecognized matching method: \" + many) \n",
      "    many = True if many==\"onemany\" else False\n",
      "    \n",
      "    data['Age2'] = data['Age']**2\n",
      "    data['Age3'] = data['Age']**3\n",
      "    data['Education2'] = data['Education']**2\n",
      "    # I originally assumed unemployment would be 1 if RE74 were 0 and 0 else; this is not the case.\n",
      "    # The indicator is actually flipped in table 2, row 1 (the mean there is 1-mean here); doesn't matter for the model\n",
      "    data['U74'] = (data['RE74']==0).astype('int')   \n",
      "    data['U75'] = (data['RE75']==0).astype('int')\n",
      "    data['RE742'] = data['RE74']**2\n",
      "    data['RE752'] = data['RE75']**2\n",
      "    \n",
      "    if dataset==\"cps\":\n",
      "        form = 'Treated ~ Age + Age2 + Age3 + Education + Education2 + RE74 + RE75 + U74 + U75 \\\n",
      "           + Black + Hispanic + Married + Nodegree + RE74:Education - 1'\n",
      "    else:\n",
      "        form = \"Treated ~ Age + Age2 + Education + Education2 + Married + Nodegree + \\\n",
      "        Black + Hispanic + RE74 + RE742 + U74 + RE75 + RE752 + U75 + Hispanic:RE74 - 1\"\n",
      "    predictors = [col for col in data.columns if col not in ['Treated', 'RE78', 'dataset']]\n",
      "\n",
      "    data['Propensity'] = computePropensityScore(form, data, verbosity = verbosity)\n",
      "    pairs = matchmethod(data.Treated, data.Propensity)\n",
      "    \n",
      "    if verbosity:\n",
      "        print 'Before matching:'\n",
      "        means, se = Balance(data.Treated, data[names[1:-1]])\n",
      "        for i in range(len(means)):\n",
      "            print 'Difference in ' + means.keys()[i] + ' means:' + str(means[i]) + '+/-' + str(se[i])\n",
      "        subset = whichMatched(pairs, data, many = many, unique = False)\n",
      "        print 'After matching:'\n",
      "        means, se = Balance(subset.Treated, subset[names[1:-1]])\n",
      "        for i in range(len(means)):\n",
      "            print 'Difference in ' + means.keys()[i] + ' means:' + str(means[i]) + '+/-' + str(se[i])\n",
      "    if verbosity>1:\n",
      "        plotScores(data.Treated, data.Propensity, pairs, many=many)\n",
      "        \n",
      "    subset = whichMatched(pairs, data, many = many, unique = True)\n",
      "    \n",
      "    \n",
      "    print \"Mean propensity score for treatment group:\" + str(data.Propensity[data.Treated==1].mean())\n",
      "    print \"Mean propensity score for control group:\" + str(data.Propensity[data.Treated==0].mean())\n",
      "    print \"Mean propensity score for matched controls:\" + str(mean(subset.Propensity[subset.Treated == 0]))\n",
      "    print \"Number of matched controls:\" + str(len(subset.Propensity[subset.Treated == 0]))\n",
      "\n",
      "    print \"\\nEstimated average treatment effect:\" + str(averageTreatmentEffect(groups = subset.Treated, response = subset.RE78, matches = pairs))\n",
      "    print \"Bootstrap SE: \" + str(bootstrapATE(groups = data.Treated, response = data.RE78, propensity = data.Propensity, B = B, many = many, method = method, k = k, caliper = caliper, caliper_method = caliper_method, replace = replace))\n",
      "    matches = pairs if many else None\n",
      "    lmEstim, lmSE = regressAverageTreatmentEffect(subset.Treated, subset.RE78, subset[names[1:-1]], matches, verbosity)\n",
      "    print \"Estimated ATE by regression:\" + str(lmEstim)\n",
      "    print \"Bootstrap SE: \" + str(bootstrapRegression(data.Treated, data.RE78, data.Propensity, data[names[1:-1]], B = B, many = many, method = method, k = k, caliper = caliper, caliper_method = caliper_method, replace = replace)) + '\\n'\n",
      "\n",
      "    return"
     ],
     "language": "python",
     "metadata": {},
     "outputs": [],
     "prompt_number": 11
    },
    {
     "cell_type": "markdown",
     "metadata": {},
     "source": [
      "<b>Goal:</b> find the average treatment effect in the treatment group (ATT) on RE78.\n",
      "\n",
      "<b>Import the data:</b> controls and treated from Lalonde/Dehejia papers.  Here's what the site says about the data:\n",
      "\n",
      "The variables from left to right are: treatment indicator (1 if treated, 0 if not treated), age, education, Black (1 if black, 0 otherwise), Hispanic (1 if Hispanic, 0 otherwise), married (1 if married, 0 otherwise), nodegree (1 if no degree, 0 otherwise), RE74 (earnings in 1974), RE75 (earnings in 1975), and RE78 (earnings in 1978).\n",
      "\n",
      "http://users.nber.org/%7Erdehejia/nswdata2.html"
     ]
    },
    {
     "cell_type": "code",
     "collapsed": false,
     "input": [
      "names = ['Treated', 'Age', 'Education', 'Black', 'Hispanic', 'Married',\n",
      "         'Nodegree', 'RE74', 'RE75', 'RE78']\n",
      "treated = pd.read_table('/Users/Kellie/Documents/ModelMatch/Data/nswre74_treated.txt', sep = '\\s+',\n",
      "                        header = None, names = names)\n",
      "treated['dataset'] = pd.Series(['treated']*len(treated.index))\n",
      "control = pd.read_table('/Users/Kellie/Documents/ModelMatch/Data/nswre74_control.txt', sep='\\s+', \n",
      "                        header = None, names = names)\n",
      "control['dataset'] = pd.Series(['control']*len(control.index))\n",
      "cps = pd.read_table('/Users/Kellie/Documents/ModelMatch/Data/cps_controls.txt', sep='\\s+', \n",
      "                        header = None, names = names)\n",
      "cps['dataset'] = pd.Series(['CPS']*len(cps.index))\n",
      "psid = pd.read_table('/Users/Kellie/Documents/ModelMatch/Data/psid_controls.txt', sep='\\s+', \n",
      "                        header = None, names = names)\n",
      "psid['dataset'] = pd.Series(['PSID']*len(psid.index))\n",
      "\n"
     ],
     "language": "python",
     "metadata": {},
     "outputs": [],
     "prompt_number": 6
    },
    {
     "cell_type": "heading",
     "level": 1,
     "metadata": {},
     "source": [
      "Results: Propensity Score Matching for CPS Dataset"
     ]
    },
    {
     "cell_type": "code",
     "collapsed": false,
     "input": [
      "print 'One-one matching without replacement:\\n'\n",
      "runMatching(treated, cps, dataset = \"cps\", many = \"oneone\", method = \"caliper\", caliper = 0, caliper_method = \"propensity\", replace = False, verbosity = 2)\n",
      "print '\\nNearest neighbor (k=1) with replacement:\\n'\n",
      "runMatching(treated, cps, dataset = \"cps\", many = \"onemany\", method = \"knn\", k = 1, replace = True, verbosity = 0)\n",
      "print '\\nOne-many caliper 0.0001 with replacement:\\n'\n",
      "runMatching(treated, cps, dataset = \"cps\", many = \"onemany\", method = \"caliper\", caliper = 0.0001, caliper_method = \"propensity\", replace = True, verbosity = 0)"
     ],
     "language": "python",
     "metadata": {},
     "outputs": [
      {
       "output_type": "stream",
       "stream": "stdout",
       "text": [
        "One-one matching without replacement:\n",
        "\n",
        "                 Generalized Linear Model Regression Results                  \n",
        "==============================================================================\n",
        "Dep. Variable:                Treated   No. Observations:                16177\n",
        "Model:                            GLM   Df Residuals:                    16163\n",
        "Model Family:                Binomial   Df Model:                           13\n",
        "Link Function:                  logit   Scale:                             1.0\n",
        "Method:                          IRLS   Log-Likelihood:                -448.04\n",
        "Date:                Sun, 17 Aug 2014   Deviance:                       896.08\n",
        "Time:                        17:31:58   Pearson chi2:                 6.73e+03\n",
        "No. Iterations:                    12                                         \n",
        "==================================================================================\n",
        "                     coef    std err          t      P>|t|      [95.0% Conf. Int.]\n",
        "----------------------------------------------------------------------------------\n",
        "Age               -0.9791      0.122     -8.040      0.000        -1.218    -0.740\n",
        "Age2               0.0449      0.005      8.401      0.000         0.034     0.055\n",
        "Age3              -0.0006   7.24e-05     -8.246      0.000        -0.001    -0.000\n",
        "Education          0.3927      0.174      2.255      0.024         0.051     0.734\n",
        "Education2        -0.0306      0.010     -3.094      0.002        -0.050    -0.011\n",
        "RE74              -0.0001   9.28e-05     -1.509      0.131        -0.000  4.18e-05\n",
        "RE75              -0.0002   3.69e-05     -5.336      0.000        -0.000    -0.000\n",
        "U74                1.3862      0.266      5.212      0.000         0.865     1.907\n",
        "U75                0.1034      0.241      0.429      0.668        -0.369     0.576\n",
        "Black              3.9287      0.253     15.532      0.000         3.433     4.425\n",
        "Hispanic           1.5741      0.391      4.021      0.000         0.807     2.341\n",
        "Married           -1.4022      0.253     -5.538      0.000        -1.898    -0.906\n",
        "Nodegree           0.3805      0.304      1.253      0.210        -0.215     0.975\n",
        "RE74:Education  1.552e-05   7.48e-06      2.075      0.038       8.6e-07  3.02e-05\n",
        "=================================================================================="
       ]
      },
      {
       "output_type": "stream",
       "stream": "stdout",
       "text": [
        "\n",
        "Before matching:"
       ]
      },
      {
       "output_type": "stream",
       "stream": "stdout",
       "text": [
        "\n",
        "Difference in Age means:7.40902140259+/-0.533249063921\n",
        "Difference in Education means:1.68156781093+/-0.149558944537\n",
        "Difference in Black means:0.769706474859+/-0.0268821908191\n",
        "Difference in Hispanic means:0.0125765585495+/-0.0175532115458\n",
        "Difference in Married means:0.522541676244+/-0.0290948059845\n",
        "Difference in Nodegree means:0.412272690399+/-0.0337097591917\n",
        "Difference in RE74 means:11921.2266155+/-367.154827272\n",
        "Difference in RE75 means:12118.7480623+/-247.77669602\n",
        "After matching:\n",
        "Difference in Age means:0.524324324324+/-0.798573735752\n",
        "Difference in Education means:0.151351351351+/-0.243170768678\n",
        "Difference in Black means:0.0324324324324+/-0.0393963083028\n",
        "Difference in Hispanic means:0.0486486486486+/-0.0287743070413\n",
        "Difference in Married means:0.0108108108108+/-0.0412703599216\n",
        "Difference in Nodegree means:0.0648648648649+/-0.048687802497\n",
        "Difference in RE74 means:64.5867636216+/-480.462614469\n",
        "Difference in RE75 means:42.9446957838+/-342.151663419\n"
       ]
      },
      {
       "metadata": {},
       "output_type": "display_data",
       "png": "[encoded data removed]",
       "text": [
        "<matplotlib.figure.Figure at 0x10ee17910>"
       ]
      },
      {
       "output_type": "stream",
       "stream": "stdout",
       "text": [
        "Mean propensity score for treatment group:0.359335160848\n",
        "Mean propensity score for control group:0.00755816553219\n",
        "Mean propensity score for matched controls:0.315403120738\n",
        "Number of matched controls:185\n",
        "\n",
        "Estimated average treatment effect:1760.17150562\n",
        "Bootstrap SE: 703.961479773"
       ]
      },
      {
       "output_type": "stream",
       "stream": "stdout",
       "text": [
        "\n",
        "Estimated ATE by regression:1806.39305808\n",
        "Bootstrap SE: 732.181374797\n"
       ]
      },
      {
       "output_type": "stream",
       "stream": "stdout",
       "text": [
        "\n",
        "\n",
        "Nearest neighbor (k=1) with replacement:\n",
        "\n",
        "Mean propensity score for treatment group:0.359335160848"
       ]
      },
      {
       "output_type": "stream",
       "stream": "stdout",
       "text": [
        "\n",
        "Mean propensity score for control group:0.00755816553219\n",
        "Mean propensity score for matched controls:0.244996063836\n",
        "Number of matched controls:160\n",
        "\n",
        "Estimated average treatment effect:1855.98208132\n",
        "Bootstrap SE: 817.782783133"
       ]
      },
      {
       "output_type": "stream",
       "stream": "stdout",
       "text": [
        "\n",
        "Estimated ATE by regression:1960.93582441\n",
        "Bootstrap SE: 847.601058065\n"
       ]
      },
      {
       "output_type": "stream",
       "stream": "stdout",
       "text": [
        "\n",
        "\n",
        "One-many caliper 0.0001 with replacement:\n",
        "\n",
        "Mean propensity score for treatment group:0.359335160848"
       ]
      },
      {
       "output_type": "stream",
       "stream": "stdout",
       "text": [
        "\n",
        "Mean propensity score for control group:0.00755816553219\n",
        "Mean propensity score for matched controls:0.0260358673279\n",
        "Number of matched controls:1599\n",
        "\n",
        "Estimated average treatment effect:1730.29299536\n",
        "Bootstrap SE: 805.277598214"
       ]
      },
      {
       "output_type": "stream",
       "stream": "stdout",
       "text": [
        "\n",
        "Estimated ATE by regression:1191.3054704\n",
        "Bootstrap SE: 821.710876199\n"
       ]
      },
      {
       "output_type": "stream",
       "stream": "stdout",
       "text": [
        "\n"
       ]
      }
     ],
     "prompt_number": 12
    },
    {
     "cell_type": "heading",
     "level": 1,
     "metadata": {},
     "source": [
      "Results: Propensity Score Matching for PSID Dataset"
     ]
    },
    {
     "cell_type": "code",
     "collapsed": false,
     "input": [
      "print 'One-one matching without replacement:\\n'\n",
      "runMatching(treated, psid, dataset = \"psid\", many = \"oneone\", method = \"caliper\", caliper = 0, caliper_method = \"propensity\", replace = False, B=50, verbosity = 2)\n",
      "print '\\nNearest neighbor (k=1) with replacement:\\n'\n",
      "runMatching(treated, psid, dataset = \"psid\", many = \"onemany\", method = \"knn\", k = 1, replace = True, B=50, verbosity = 0)\n",
      "print '\\nOne-many caliper 0.0001 with replacement:\\n'\n",
      "runMatching(treated, psid, dataset = \"psid\", many = \"onemany\", method = \"caliper\", caliper = 0.0001, caliper_method = \"propensity\", replace = True, B=50, verbosity = 0)"
     ],
     "language": "python",
     "metadata": {},
     "outputs": [
      {
       "output_type": "stream",
       "stream": "stdout",
       "text": [
        "One-one matching without replacement:\n",
        "\n",
        "                 Generalized Linear Model Regression Results                  \n",
        "==============================================================================\n",
        "Dep. Variable:                Treated   No. Observations:                 2675\n",
        "Model:                            GLM   Df Residuals:                     2660\n",
        "Model Family:                Binomial   Df Model:                           14\n",
        "Link Function:                  logit   Scale:                             1.0\n",
        "Method:                          IRLS   Log-Likelihood:                -203.08\n",
        "Date:                Sun, 17 Aug 2014   Deviance:                       406.16\n",
        "Time:                        18:05:53   Pearson chi2:                 5.98e+03\n",
        "No. Iterations:                    11                                         \n",
        "=================================================================================\n",
        "                    coef    std err          t      P>|t|      [95.0% Conf. Int.]\n",
        "---------------------------------------------------------------------------------\n",
        "Age               0.0202      0.084      0.242      0.809        -0.144     0.184\n",
        "Age2             -0.0021      0.001     -1.552      0.121        -0.005     0.001\n",
        "Education         0.1226      0.237      0.516      0.606        -0.343     0.588\n",
        "Education2       -0.0159      0.013     -1.202      0.229        -0.042     0.010\n",
        "Married          -1.5920      0.287     -5.542      0.000        -2.155    -1.029\n",
        "Nodegree         -0.0189      0.406     -0.046      0.963        -0.814     0.776\n",
        "Black             2.3565      0.356      6.626      0.000         1.659     3.054\n",
        "Hispanic          2.1047      0.768      2.741      0.006         0.600     3.610\n",
        "RE74          -2.296e-05   4.98e-05     -0.461      0.645        -0.000  7.46e-05\n",
        "RE742          1.472e-09   1.19e-09      1.233      0.218     -8.68e-10  3.81e-09\n",
        "U74               3.0501      0.514      5.938      0.000         2.043     4.057\n",
        "RE75             -0.0003   5.63e-05     -5.352      0.000        -0.000    -0.000\n",
        "RE752          9.986e-10   9.28e-10      1.076      0.282     -8.21e-10  2.82e-09\n",
        "U75              -1.4035      0.468     -3.002      0.003        -2.320    -0.487\n",
        "Hispanic:RE74 -7.607e-06   7.94e-05     -0.096      0.924        -0.000     0.000\n",
        "================================================================================="
       ]
      },
      {
       "output_type": "stream",
       "stream": "stdout",
       "text": [
        "\n",
        "Before matching:"
       ]
      },
      {
       "output_type": "stream",
       "stream": "stdout",
       "text": [
        "\n",
        "Difference in Age means:9.03438619342+/-0.566131460291\n",
        "Difference in Education means:1.77092152393+/-0.160213404486\n",
        "Difference in Black means:0.592640833605+/-0.0281752381396\n",
        "Difference in Hispanic means:0.0269293389775+/-0.0177926770707\n",
        "Difference in Married means:0.677075871052+/-0.0296685380474\n",
        "Difference in Nodegree means:0.402887224574+/-0.0347637749798\n",
        "Difference in RE74 means:17333.1721543+/-448.622869837\n",
        "Difference in RE75 means:17531.2822732+/-360.925468652\n",
        "After matching:\n",
        "Difference in Age means:3.20540540541+/-0.872340087751\n",
        "Difference in Education means:0.0432432432432+/-0.24855091831\n",
        "Difference in Black means:0.145945945946+/-0.0431918025414\n",
        "Difference in Hispanic means:0.0+/-0.0246550180403\n",
        "Difference in Married means:0.318918918919+/-0.0468189678713\n",
        "Difference in Nodegree means:0.108108108108+/-0.0492713766971\n",
        "Difference in RE74 means:3147.26540454+/-605.040287413\n",
        "Difference in RE75 means:1927.70919052+/-382.167221785\n"
       ]
      },
      {
       "metadata": {},
       "output_type": "display_data",
       "png": "[encoded data removed]",
       "text": [
        "<matplotlib.figure.Figure at 0x1137ede90>"
       ]
      },
      {
       "output_type": "stream",
       "stream": "stdout",
       "text": [
        "Mean propensity score for treatment group:0.695732206514\n",
        "Mean propensity score for control group:0.0231623728955\n",
        "Mean propensity score for matched controls:0.254742083584\n",
        "Number of matched controls:185\n",
        "\n",
        "Estimated average treatment effect:-1188.14865184\n",
        "Bootstrap SE: 974.514056353"
       ]
      },
      {
       "output_type": "stream",
       "stream": "stdout",
       "text": [
        "\n",
        "Estimated ATE by regression:789.185642084\n",
        "Bootstrap SE: 876.817206292\n"
       ]
      },
      {
       "output_type": "stream",
       "stream": "stdout",
       "text": [
        "\n",
        "\n",
        "Nearest neighbor (k=1) with replacement:\n",
        "\n",
        "Mean propensity score for treatment group:0.695732206514"
       ]
      },
      {
       "output_type": "stream",
       "stream": "stdout",
       "text": [
        "\n",
        "Mean propensity score for control group:0.0231623728955\n",
        "Mean propensity score for matched controls:0.419141589608\n",
        "Number of matched controls:63\n",
        "\n",
        "Estimated average treatment effect:977.232003568\n",
        "Bootstrap SE: 1026.45263453"
       ]
      },
      {
       "output_type": "stream",
       "stream": "stdout",
       "text": [
        "\n",
        "Estimated ATE by regression:2028.84982027\n",
        "Bootstrap SE: 1027.55021506\n"
       ]
      },
      {
       "output_type": "stream",
       "stream": "stdout",
       "text": [
        "\n",
        "\n",
        "One-many caliper 0.0001 with replacement:\n",
        "\n",
        "Mean propensity score for treatment group:0.695732206514"
       ]
      },
      {
       "output_type": "stream",
       "stream": "stdout",
       "text": [
        "\n",
        "Mean propensity score for control group:0.0231623728955\n",
        "Mean propensity score for matched controls:0.0823111978493\n",
        "Number of matched controls:321\n",
        "\n",
        "Estimated average treatment effect:1073.19478113\n",
        "Bootstrap SE: 856.587670053"
       ]
      },
      {
       "output_type": "stream",
       "stream": "stdout",
       "text": [
        "\n",
        "Estimated ATE by regression:1965.22304119\n",
        "Bootstrap SE: 756.156912766\n"
       ]
      },
      {
       "output_type": "stream",
       "stream": "stdout",
       "text": [
        "\n"
       ]
      }
     ],
     "prompt_number": 13
    },
    {
     "cell_type": "heading",
     "level": 1,
     "metadata": {},
     "source": [
      "Results: ModelMatch for CPS Dataset (test statistic is the absolute difference in mean response of treatments vs controls within bins)"
     ]
    },
    {
     "cell_type": "code",
     "collapsed": false,
     "input": [
      "data = pd.concat([treated, cps]); data.index = range(len(data.Treated))\n",
      "Xmat = data[names[1:-1]]\n",
      "Xmat = sm.add_constant(Xmat, prepend=False)\n",
      "linmodel = sm.OLS(data.RE78, Xmat).fit()\n",
      "pred = linmodel.fittedvalues\n",
      "\n",
      "print 'Prediction model:'\n",
      "print linmodel.summary()\n",
      "\n",
      "print '\\n4 bins: '\n",
      "pLeft, pRight, pBoth, tst, dist = modelMatch(predicted = pred, response = data.RE78, conditions = data.Treated,\n",
      "                                             testStatistic=\"difference_in_means\", nbins = 4, verbosity = 1)\n",
      "print pLeft, pRight, pBoth, tst\n",
      "print '\\n10 bins: '\n",
      "pLeft, pRight, pBoth, tst, dist = modelMatch(predicted = pred, response = data.RE78, conditions = data.Treated,\n",
      "                                             testStatistic=\"difference_in_means\", nbins = 10, verbosity = 1)\n",
      "print pLeft, pRight, pBoth, tst"
     ],
     "language": "python",
     "metadata": {},
     "outputs": [
      {
       "output_type": "stream",
       "stream": "stdout",
       "text": [
        "Prediction model:\n",
        "                            OLS Regression Results                            \n",
        "==============================================================================\n",
        "Dep. Variable:                   RE78   R-squared:                       0.476\n",
        "Model:                            OLS   Adj. R-squared:                  0.476\n",
        "Method:                 Least Squares   F-statistic:                     1834.\n",
        "Date:                Sun, 17 Aug 2014   Prob (F-statistic):               0.00\n",
        "Time:                        19:45:50   Log-Likelihood:            -1.6618e+05\n",
        "No. Observations:               16177   AIC:                         3.324e+05\n",
        "Df Residuals:                   16168   BIC:                         3.325e+05\n",
        "Df Model:                           8                                         \n",
        "==============================================================================\n",
        "                 coef    std err          t      P>|t|      [95.0% Conf. Int.]\n",
        "------------------------------------------------------------------------------\n",
        "Age         -101.9204      5.881    -17.331      0.000      -113.447   -90.394\n",
        "Education    160.9353     28.589      5.629      0.000       104.899   216.972\n",
        "Black       -760.9873    204.343     -3.724      0.000     -1161.522  -360.452\n",
        "Hispanic    -214.9159    218.652     -0.983      0.326      -643.497   213.665\n",
        "Married       63.4735    142.213      0.446      0.655      -215.279   342.226\n",
        "Nodegree     383.1228    177.389      2.160      0.031        35.421   730.824\n",
        "RE74           0.2894      0.012     23.947      0.000         0.266     0.313\n",
        "RE75           0.4703      0.012     38.675      0.000         0.446     0.494\n",
        "const       5741.4445    445.162     12.897      0.000      4868.878  6614.011\n",
        "==============================================================================\n",
        "Omnibus:                     1536.741   Durbin-Watson:                   1.965\n",
        "Prob(Omnibus):                  0.000   Jarque-Bera (JB):             3046.258\n",
        "Skew:                          -0.631   Prob(JB):                         0.00\n",
        "Kurtosis:                       4.711   Cond. No.                     1.97e+05\n",
        "==============================================================================\n",
        "\n",
        "Warnings:\n",
        "[1] The condition number is large, 1.97e+05. This might indicate that there are\n",
        "strong multicollinearity or other numerical problems.\n",
        "\n",
        "4 bins: \n",
        "\n",
        "Number of observations assigned to each bin:\n",
        "3    4044\n",
        "2    4044\n",
        "1    4044\n",
        "0    4045\n",
        "dtype: int64\n",
        "\n",
        "Test statistic for each stratum:"
       ]
      },
      {
       "output_type": "stream",
       "stream": "stdout",
       "text": [
        "\n",
        "[733.64417825446344, 6626.0816550679056, 3641.4412100200843]\n",
        "0.963"
       ]
      },
      {
       "output_type": "stream",
       "stream": "stdout",
       "text": [
        " 0.037 0.037 11001.1670433\n",
        "\n",
        "10 bins: \n",
        "\n",
        "Number of observations assigned to each bin:\n",
        "8    1615\n",
        "5    1617\n",
        "2    1617\n",
        "9    1618\n",
        "6    1618\n",
        "4    1618\n",
        "3    1618\n",
        "1    1618\n",
        "0    1618\n",
        "7    1620\n",
        "dtype: int64\n",
        "\n",
        "Test statistic for each stratum:"
       ]
      },
      {
       "output_type": "stream",
       "stream": "stdout",
       "text": [
        "\n",
        "[478.8436171271951, 1557.5446521021377, 1174.302569766849, 4332.4207854490651, 1838.50735337884, 16726.764321868894, 5551.158620439277, 4319.420827757458]\n",
        "0.899"
       ]
      },
      {
       "output_type": "stream",
       "stream": "stdout",
       "text": [
        " 0.101 0.101 35978.9627479\n"
       ]
      }
     ],
     "prompt_number": 8
    },
    {
     "cell_type": "heading",
     "level": 1,
     "metadata": {},
     "source": [
      "Results: ModelMatch for PSID Dataset\n",
      "(test statistic is the absolute difference in mean response of treatments vs controls within bins)"
     ]
    },
    {
     "cell_type": "code",
     "collapsed": false,
     "input": [
      "data = pd.concat([treated, psid]); data.index = range(len(data.Treated))\n",
      "Xmat = data[names[1:-1]]\n",
      "Xmat = sm.add_constant(Xmat, prepend=False)\n",
      "linmodel = sm.OLS(data.RE78, Xmat).fit()\n",
      "pred = linmodel.fittedvalues\n",
      "\n",
      "print 'Prediction model:'\n",
      "print linmodel.summary()\n",
      "\n",
      "print '\\n4 bins: '\n",
      "pLeft, pRight, pBoth, tst, dist = modelMatch(predicted = pred, response = data.RE78, conditions = data.Treated,\n",
      "                                             testStatistic=\"difference_in_means\", nbins = 4, verbosity = 1)\n",
      "print pLeft, pRight, pBoth, tst\n",
      "print '\\n10 bins: '\n",
      "pLeft, pRight, pBoth, tst, dist = modelMatch(predicted = pred, response = data.RE78, conditions = data.Treated,\n",
      "                                             testStatistic=\"difference_in_means\", nbins = 10, verbosity = 1)\n",
      "print pLeft, pRight, pBoth, tst"
     ],
     "language": "python",
     "metadata": {},
     "outputs": [
      {
       "output_type": "stream",
       "stream": "stdout",
       "text": [
        "Prediction model:\n",
        "                            OLS Regression Results                            \n",
        "==============================================================================\n",
        "Dep. Variable:                   RE78   R-squared:                       0.586\n",
        "Model:                            OLS   Adj. R-squared:                  0.585\n",
        "Method:                 Least Squares   F-statistic:                     472.2\n",
        "Date:                Sun, 17 Aug 2014   Prob (F-statistic):               0.00\n",
        "Time:                        19:44:38   Log-Likelihood:                -28448.\n",
        "No. Observations:                2675   AIC:                         5.691e+04\n",
        "Df Residuals:                    2666   BIC:                         5.697e+04\n",
        "Df Model:                           8                                         \n",
        "==============================================================================\n",
        "                 coef    std err          t      P>|t|      [95.0% Conf. Int.]\n",
        "------------------------------------------------------------------------------\n",
        "Age          -85.1343     20.725     -4.108      0.000      -125.773   -44.496\n",
        "Education    598.7889    103.022      5.812      0.000       396.777   800.801\n",
        "Black       -494.8293    486.408     -1.017      0.309     -1448.604   458.945\n",
        "Hispanic    2221.8453   1089.895      2.039      0.042        84.719  4358.971\n",
        "Married     1079.6441    552.551      1.954      0.051        -3.828  2163.117\n",
        "Nodegree     659.0361    641.338      1.028      0.304      -598.533  1916.605\n",
        "RE74           0.2772      0.028      9.936      0.000         0.223     0.332\n",
        "RE75           0.5669      0.028     20.600      0.000         0.513     0.621\n",
        "const         24.6495   1677.925      0.015      0.988     -3265.516  3314.815\n",
        "==============================================================================\n",
        "Omnibus:                      985.545   Durbin-Watson:                   1.891\n",
        "Prob(Omnibus):                  0.000   Jarque-Bera (JB):            21248.541\n",
        "Skew:                           1.219   Prob(JB):                         0.00\n",
        "Kurtosis:                      16.590   Cond. No.                     2.85e+05\n",
        "==============================================================================\n",
        "\n",
        "Warnings:\n",
        "[1] The condition number is large, 2.85e+05. This might indicate that there are\n",
        "strong multicollinearity or other numerical problems.\n",
        "\n",
        "4 bins: \n",
        "\n",
        "Number of observations assigned to each bin:\n",
        "2    668\n",
        "3    669\n",
        "1    669\n",
        "0    669\n",
        "dtype: int64\n",
        "\n",
        "Test statistic for each stratum:"
       ]
      },
      {
       "output_type": "stream",
       "stream": "stdout",
       "text": [
        "\n",
        "[546.12002262637907, 8161.2508826286221, 3206.5317891291161]\n",
        "0.831"
       ]
      },
      {
       "output_type": "stream",
       "stream": "stdout",
       "text": [
        " 0.169 0.169 11913.9026944\n",
        "\n",
        "10 bins: \n",
        "\n",
        "Number of observations assigned to each bin:\n",
        "8    267\n",
        "6    267\n",
        "5    267\n",
        "3    267\n",
        "2    267\n",
        "9    268\n",
        "7    268\n",
        "4    268\n",
        "1    268\n",
        "0    268\n",
        "dtype: int64\n",
        "\n",
        "Test statistic for each stratum:\n",
        "[589.50227668235448, 33.676647787489856, 1573.0541896395443, 2722.2211644106501, 21323.522211127813, 102.85486015036804]\n",
        "0.79"
       ]
      },
      {
       "output_type": "stream",
       "stream": "stdout",
       "text": [
        " 0.21 0.21 26344.8313498\n"
       ]
      }
     ],
     "prompt_number": 7
    },
    {
     "cell_type": "markdown",
     "metadata": {},
     "source": [
      "<b>Compute propensity scores</b> to start.  We need to compute some additional variables that Dehejia and Wahba use in the model for propensity scores.  Refer to the appendix of their paper to see how they decided to include these variables."
     ]
    },
    {
     "cell_type": "code",
     "collapsed": false,
     "input": [
      "data = pd.concat([treated, psid])\n",
      "data.index = range(len(data.index))\n",
      "#print data.head()\n",
      "\n",
      "# Verify some characteristics match the Dehejia & Wahba paper, see table 1\n",
      "print mean(treated.Age), mean(control.Age)\n",
      "print mean(treated.Education), mean(control.Education)\n",
      "print mean(treated.Black), mean(control.Black)\n",
      "\n",
      "data['Age2'] = data['Age']**2\n",
      "data['Age3'] = data['Age']**3\n",
      "data['Education2'] = data['Education']**2\n",
      "# I originally assumed unemployment would be 1 if RE74 were 0 and 0 else; this is not the case.\n",
      "# The indicator is actually flipped in table 2, row 1 (the mean there is 1-mean here); doesn't matter for the model\n",
      "data['U74'] = (data['RE74']==0).astype('int')   \n",
      "data['U75'] = (data['RE75']==0).astype('int')\n",
      "data['RE742'] = data['RE74']**2\n",
      "data['RE752'] = data['RE75']**2\n",
      "data['SchoolRE74'] = data['Education']*data['RE74']\n",
      "\n",
      "\n",
      "predictors = [col for col in data.columns if col not in ['Treated', 'RE78', 'dataset']]\n",
      "\n",
      "form = 'Treated ~ Age + Age2 + Age3 + Education + Education2 + RE74 + RE75 + U74 + U75 \\\n",
      "           + Black + Hispanic + Married + Nodegree + RE74:Education - 1'\n",
      "form2 = \"Treated ~ Age + Age2 + Education + Education2 + Married + Nodegree + \\\n",
      "        Black + Hispanic + RE74 + RE742 + U74 + RE75 + RE752 + U75 + Hispanic:RE74 - 1\"\n",
      "\n",
      "data['Propensity'] = computePropensityScore(form2, data, verbosity=0)\n",
      "print 'Compare to means in table 2:\\n'\n",
      "print data.groupby(data.Treated).mean()\n",
      "print '\\n--------------------------'\n",
      "\n",
      "\n",
      "pairs = Match(data.Treated, data.Propensity, caliper = 0, caliper_method = \"none\", replace = True)\n",
      "manypairs = MatchMany(data.Treated, data.Propensity, method = \"knn\", k=5, replace=True)\n",
      "data_matched = whichMatched(pairs, data) \n",
      "data_manymatched = whichMatched(manypairs, data, many = True)\n",
      "data_manymatched_unique = whichMatched(manypairs, data, many = True, unique = True)\n",
      "data_manymatched_unique['Weights'] = getWeights(manypairs, data_manymatched_unique.Treated)\n",
      "\n",
      "print \"# Matched controls, 1-1 matching: \" + str(len(data_matched.Treated[data_matched.Treated==0]))\n",
      "print data_matched.groupby(data_matched.Treated).mean()\n",
      "print '\\n--------------------------'\n",
      "print \"# Matched controls, 1-many matching: \" + str(len(data_manymatched_unique.Treated[data_manymatched_unique.Treated==0]))\n",
      "print data_manymatched.groupby(data_manymatched.Treated).mean()"
     ],
     "language": "python",
     "metadata": {},
     "outputs": [
      {
       "output_type": "stream",
       "stream": "stdout",
       "text": [
        "Compare to means in table 2:\n",
        "\n",
        "         Treated        Age  Education     Black  Hispanic   Married  \\\n",
        "Treated                                                                \n",
        "0              0  34.850602  12.116867  0.250602  0.032530  0.866265   \n",
        "1              1  25.816216  10.345946  0.843243  0.059459  0.189189   \n",
        "\n",
        "         Nodegree          RE74          RE75          RE78         Age2  \\\n",
        "Treated                                                                    \n",
        "0        0.305221  19428.745843  19063.337587  21553.920998  1323.530120   \n",
        "1        0.708108   2095.573689   1532.055314   6349.143530   717.394595   \n",
        "\n",
        "                 Age3  Education2       U74  U75         RE742         RE752  \\\n",
        "Treated                                                                        \n",
        "0        54102.277108  156.316064  0.086345  0.1  5.571483e+08  5.482138e+08   \n",
        "1        21554.659459  111.059459  0.708108  0.6  2.814141e+07  1.265475e+07   \n",
        "\n",
        "            SchoolRE74  Propensity  \n",
        "Treated                             \n",
        "0        248073.367917    0.023162  \n",
        "1         22898.726414    0.695732  \n",
        "\n",
        "--------------------------\n",
        "# Matched controls, 1-1 matching: 185"
       ]
      },
      {
       "output_type": "stream",
       "stream": "stdout",
       "text": [
        "\n",
        "         Treated        Age  Education     Black  Hispanic   Married  \\\n",
        "Treated                                                                \n",
        "0              0  24.118919  10.816216  0.800000  0.113514  0.108108   \n",
        "1              1  25.816216  10.345946  0.843243  0.059459  0.189189   \n",
        "\n",
        "         Nodegree         RE74         RE75         RE78        Age2  \\\n",
        "Treated                                                                \n",
        "0        0.529730  3181.478603  1865.109678  5371.911527  612.021622   \n",
        "1        0.708108  2095.573689  1532.055314  6349.143530  717.394595   \n",
        "\n",
        "                 Age3  Education2       U74       U75            RE742  \\\n",
        "Treated                                                                  \n",
        "0        16707.654054  122.664865  0.616216  0.475676  49609978.887981   \n",
        "1        21554.659459  111.059459  0.708108  0.600000  28141411.568626   \n",
        "\n",
        "                   RE752    SchoolRE74  Propensity  \n",
        "Treated                                             \n",
        "0        16600804.334683  35522.799072    0.695608  \n",
        "1        12654750.317371  22898.726414    0.695732  \n",
        "\n",
        "--------------------------\n",
        "# Matched controls, 1-many matching: 163\n",
        "         Treated        Age  Education     Black  Hispanic   Married  \\\n",
        "Treated                                                                \n",
        "0              0  24.697425  10.525751  0.839056  0.064378  0.126609   \n",
        "1              1  25.816216  10.345946  0.843243  0.059459  0.189189   \n",
        "\n",
        "         Nodegree         RE74         RE75         RE78        Age2  \\\n",
        "Treated                                                                \n",
        "0        0.662017  2378.303933  1670.578429  4632.514257  649.446352   \n",
        "1        0.708108  2095.573689  1532.055314  6349.143530  717.394595   \n",
        "\n",
        "                 Age3  Education2       U74       U75            RE742  \\\n",
        "Treated                                                                  \n",
        "0        18661.115880  115.476395  0.627682  0.533262  30873596.297758   \n",
        "1        21554.659459  111.059459  0.708108  0.600000  28141411.568626   \n",
        "\n",
        "                   RE752    SchoolRE74  Propensity  \n",
        "Treated                                             \n",
        "0        13733320.872374  25669.041755    0.694992  \n",
        "1        12654750.317371  22898.726414    0.695732  \n"
       ]
      }
     ],
     "prompt_number": 54
    },
    {
     "cell_type": "code",
     "collapsed": false,
     "input": [
      "# Balance diagnostics:\n",
      "print 'Before matching:'\n",
      "means, se = Balance(data.Treated, data[names[1:-1]])\n",
      "for i in range(len(means)):\n",
      "    print 'Difference in ' + means.keys()[i] + ' means:' + str(means[i]) + '+/-' + str(se[i])\n",
      "\n",
      "print '\\nOne-one matching:'\n",
      "means, se = Balance(data_matched.Treated, data_matched[names[1:-1]])\n",
      "for i in range(len(means)):\n",
      "    print 'Difference in ' + means.keys()[i] + ' means:' + str(means[i]) + '+/-' + str(se[i])\n",
      "plotScores(data.Treated, data.Propensity, pairs, many=False)\n",
      "\n",
      "print '\\nOne-many matching:'\n",
      "means, se = Balance(data_manymatched.Treated, data_manymatched[names[1:-1]])\n",
      "for i in range(len(means)):\n",
      "    print 'Difference in ' + means.keys()[i] + ' means:' + str(means[i]) + '+/-' + str(se[i])\n",
      "    \n",
      "plotScores(data.Treated, data.Propensity, manypairs, many=True)"
     ],
     "language": "python",
     "metadata": {},
     "outputs": [
      {
       "output_type": "stream",
       "stream": "stdout",
       "text": [
        "Before matching:\n",
        "Difference in Age means:9.03438619342+/-0.566131460291\n",
        "Difference in Education means:1.77092152393+/-0.160213404486\n",
        "Difference in Black means:0.592640833605+/-0.0281752381396\n",
        "Difference in Hispanic means:0.0269293389775+/-0.0177926770707\n",
        "Difference in Married means:0.677075871052+/-0.0296685380474\n",
        "Difference in Nodegree means:0.402887224574+/-0.0347637749798\n",
        "Difference in RE74 means:17333.1721543+/-448.622869837\n",
        "Difference in RE75 means:17531.2822732+/-360.925468652\n",
        "\n",
        "One-one matching:\n",
        "Difference in Age means:1.6972972973+/-0.664376737498\n",
        "Difference in Education means:0.47027027027+/-0.22954578936\n",
        "Difference in Black means:0.0432432432432+/-0.0398491773392\n",
        "Difference in Hispanic means:0.0540540540541+/-0.0291689445397\n",
        "Difference in Married means:0.0810810810811+/-0.0368470240194\n",
        "Difference in Nodegree means:0.178378378378+/-0.0497716065442\n",
        "Difference in RE74 means:1085.90491459+/-586.247069471\n",
        "Difference in RE75 means:333.054364649+/-356.84096335\n"
       ]
      },
      {
       "metadata": {},
       "output_type": "display_data",
       "png": "[encoded data removed]",
       "text": [
        "<matplotlib.figure.Figure at 0x115053ad0>"
       ]
      },
      {
       "output_type": "stream",
       "stream": "stdout",
       "text": [
        "\n",
        "One-many matching:\n",
        "Difference in Age means:1.11879132351+/-0.564921042757\n",
        "Difference in Education means:0.179805127015+/-0.163965515129\n",
        "Difference in Black means:0.00418744925183+/-0.0293843718243\n",
        "Difference in Hispanic means:0.00491822294397+/-0.0191997986486\n",
        "Difference in Married means:0.0625797471291+/-0.0308618268158\n",
        "Difference in Nodegree means:0.0460909407261+/-0.0369276885376\n",
        "Difference in RE74 means:282.730244205+/-395.173642006\n",
        "Difference in RE75 means:138.523115566+/-260.332113311\n"
       ]
      },
      {
       "metadata": {},
       "output_type": "display_data",
       "png": "[encoded data removed]",
       "text": [
        "<matplotlib.figure.Figure at 0x115053210>"
       ]
      }
     ],
     "prompt_number": 40
    },
    {
     "cell_type": "code",
     "collapsed": false,
     "input": [],
     "language": "python",
     "metadata": {},
     "outputs": []
    }
   ],
   "metadata": {}
  }
 ]
}