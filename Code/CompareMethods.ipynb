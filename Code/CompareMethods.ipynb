{
 "metadata": {
  "name": "CompareMethods.ipynb"
 },
 "nbformat": 3,
 "nbformat_minor": 0,
 "worksheets": [
  {
   "cells": [
    {
     "cell_type": "code",
     "collapsed": false,
     "input": [
      "%matplotlib inline\n",
      "import math\n",
      "import numpy as np\n",
      "import scipy\n",
      "import pandas as pd\n",
      "import matplotlib.pyplot as plt\n",
      "from ModelMatch import binByQuantiles\n",
      "from PSM import *\n",
      "import statsmodels.api as sm"
     ],
     "language": "python",
     "metadata": {},
     "outputs": [],
     "prompt_number": 3
    },
    {
     "cell_type": "markdown",
     "metadata": {},
     "source": [
      "<b>Goal:</b> find the average treatment effect in the treatment group (ATT) on RE78.\n",
      "\n",
      "<b>Import the data:</b> controls and treated from Lalonde/Dehejia papers.  Here's what the site says about the data:\n",
      "\n",
      "The variables from left to right are: treatment indicator (1 if treated, 0 if not treated), age, education, Black (1 if black, 0 otherwise), Hispanic (1 if Hispanic, 0 otherwise), married (1 if married, 0 otherwise), nodegree (1 if no degree, 0 otherwise), RE74 (earnings in 1974), RE75 (earnings in 1975), and RE78 (earnings in 1978).\n",
      "\n",
      "http://users.nber.org/%7Erdehejia/nswdata2.html"
     ]
    },
    {
     "cell_type": "code",
     "collapsed": false,
     "input": [
      "names = ['Treated', 'Age', 'Education', 'Black', 'Hispanic', 'Married',\n",
      "         'Nodegree', 'RE74', 'RE75', 'RE78']\n",
      "treated = pd.read_table('/Users/Kellie/Documents/ModelMatch/Data/nswre74_treated.txt', sep = '\\s+',\n",
      "                        header = None, names = names)\n",
      "treated['dataset'] = pd.Series(['treated']*len(treated.index))\n",
      "control = pd.read_table('/Users/Kellie/Documents/ModelMatch/Data/nswre74_control.txt', sep='\\s+', \n",
      "                        header = None, names = names)\n",
      "control['dataset'] = pd.Series(['control']*len(control.index))\n",
      "cps = pd.read_table('/Users/Kellie/Documents/ModelMatch/Data/cps_controls.txt', sep='\\s+', \n",
      "                        header = None, names = names)\n",
      "cps['dataset'] = pd.Series(['CPS']*len(cps.index))\n",
      "psid = pd.read_table('/Users/Kellie/Documents/ModelMatch/Data/psid_controls.txt', sep='\\s+', \n",
      "                        header = None, names = names)\n",
      "psid['dataset'] = pd.Series(['PSID']*len(psid.index))\n",
      "data = pd.concat([treated, cps])\n",
      "data.index = range(len(data.index))\n",
      "#print data.head()\n",
      "\n",
      "# Verify some characteristics match the Dehejia & Wahba paper, see table 1\n",
      "print mean(treated.Age), mean(control.Age)\n",
      "print mean(treated.Education), mean(control.Education)\n",
      "print mean(treated.Black), mean(control.Black)"
     ],
     "language": "python",
     "metadata": {},
     "outputs": [
      {
       "output_type": "stream",
       "stream": "stdout",
       "text": [
        "25.8162162162 25.0538461538\n",
        "10.3459459459 10.0884615385\n",
        "0.843243243243 0.826923076923\n"
       ]
      }
     ],
     "prompt_number": 8
    },
    {
     "cell_type": "markdown",
     "metadata": {},
     "source": [
      "<b>Compute propensity scores</b> to start.  We need to compute some additional variables that Dehejia and Wahba use in the model for propensity scores.  Refer to the appendix of their paper to see how they decided to include these variables."
     ]
    },
    {
     "cell_type": "code",
     "collapsed": false,
     "input": [
      "data['Age2'] = data['Age']**2\n",
      "data['Age3'] = data['Age']**3\n",
      "data['Education2'] = data['Education']**2\n",
      "# I originally assumed unemployment would be 1 if RE74 were 0 and 0 else; this is not the case.\n",
      "# The indicator is actually flipped in table 2, row 1 (the mean there is 1-mean here); doesn't matter for the model\n",
      "data['U74'] = (data['RE74']==0).astype('int')   \n",
      "data['U75'] = (data['RE75']==0).astype('int')\n",
      "data['SchoolRE74'] = data['Education']*data['RE74']\n",
      "\n",
      "\n",
      "predictors = [col for col in data.columns if col not in ['Treated', 'RE78', 'dataset']]\n",
      "data['Propensity'] = computePropensityScore(data[predictors], data.Treated)\n",
      "\n",
      "pairs = Match(data.Treated, data.Propensity, caliper = 0, caliper_method = \"none\", replace = False)\n",
      "data_matched = whichMatched(pairs, data)\n",
      "print \"Unmatched treated individuals: \" + str(pairs.isnull().sum())\n",
      "pairs[:5] # The first 5 matched pairs"
     ],
     "language": "python",
     "metadata": {},
     "outputs": [
      {
       "output_type": "stream",
       "stream": "stdout",
       "text": [
        "Unmatched treated individuals: 0\n"
       ]
      },
      {
       "metadata": {},
       "output_type": "pyout",
       "prompt_number": 9,
       "text": [
        "0    15823\n",
        "1     2546\n",
        "2     1843\n",
        "3     3545\n",
        "4    10467\n",
        "dtype: float64"
       ]
      }
     ],
     "prompt_number": 9
    },
    {
     "cell_type": "code",
     "collapsed": false,
     "input": [
      "g1, g2 = data.Propensity[data.Treated==1], data.Propensity[data.Treated==0]\n",
      "print \"The first five matched pairs of propensity scores: \" + str(zip(g1, g2[pairs])[:5])\n",
      "print \"Mean propensity score for treatment group:\" + str(mean(g1))\n",
      "print \"Mean propensity score for treatment group:\" + str(mean(data_matched.Propensity[data_matched.Treated == 1]))\n",
      "print \"Mean propensity score for control group:\" + str(mean(g2))\n",
      "print \"Mean propensity score for matched controls:\" + str(mean(data_matched.Propensity[data_matched.Treated == 0]))\n",
      "\n",
      "\n",
      "print \"Estimated average treatment effect:\" + str(averageTreatmentEffect(groups = data_matched.Treated, response = data_matched.RE78))\n",
      "#print \"Bootstrap SE: \" + str(bootstrapATE(groups = data.Treated, response = data.RE78, propensity = data.Propensity, B = 100, caliper = 0, replace = False))\n",
      "\n",
      "lmEstim, lmSE = regressAverageTreatmentEffect(data_matched.Treated, data_matched.RE78, data_matched[names[1:-1]])\n",
      "print \"Estimated ATE by regression:\" + str(lmEstim) + \"+/-\" + str(lmSE)"
     ],
     "language": "python",
     "metadata": {},
     "outputs": [
      {
       "output_type": "stream",
       "stream": "stdout",
       "text": [
        "The first five matched pairs of propensity scores: [(0.37558726252250424, 0.37955480118377594), (0.42400576567079484, 0.41968275110926667), (0.69869487164630906, 0.69869487164630906), (0.90213861900538983, 0.25633785014606814), (0.90835495197399896, 0.87866770658395155)]\n",
        "Mean propensity score for treatment group:0.425356679505\n",
        "Mean propensity score for treatment group:0.425356679505\n",
        "Mean propensity score for control group:0.00664763721176\n",
        "Mean propensity score for matched controls:0.298798876603\n",
        "Estimated average treatment effect:1086.33622514\n",
        "Estimated ATE by regression:1245.18845383+/-743.534816745\n"
       ]
      }
     ],
     "prompt_number": 10
    },
    {
     "cell_type": "code",
     "collapsed": false,
     "input": [
      "Stratify(data.Treated, data.RE78, data.Propensity, nbins = 10, verbosity = 2)"
     ],
     "language": "python",
     "metadata": {},
     "outputs": []
    }
   ],
   "metadata": {}
  }
 ]
}