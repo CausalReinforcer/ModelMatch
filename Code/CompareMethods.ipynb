{
 "metadata": {
  "name": "CompareMethods.ipynb"
 },
 "nbformat": 3,
 "nbformat_minor": 0,
 "worksheets": [
  {
   "cells": [
    {
     "cell_type": "code",
     "collapsed": false,
     "input": [
      "%matplotlib inline\n",
      "import math\n",
      "import numpy as np\n",
      "import scipy\n",
      "import pandas as pd\n",
      "import matplotlib.pyplot as plt\n",
      "from ModelMatch import *\n",
      "from PSM import *\n",
      "import statsmodels.api as sm"
     ],
     "language": "python",
     "metadata": {},
     "outputs": [],
     "prompt_number": 8
    },
    {
     "cell_type": "markdown",
     "metadata": {},
     "source": [
      "<b>Goal:</b> find the average treatment effect in the treatment group (ATT) on RE78.\n",
      "\n",
      "<b>Import the data:</b> controls and treated from Lalonde/Dehejia papers.  Here's what the site says about the data:\n",
      "\n",
      "The variables from left to right are: treatment indicator (1 if treated, 0 if not treated), age, education, Black (1 if black, 0 otherwise), Hispanic (1 if Hispanic, 0 otherwise), married (1 if married, 0 otherwise), nodegree (1 if no degree, 0 otherwise), RE74 (earnings in 1974), RE75 (earnings in 1975), and RE78 (earnings in 1978).\n",
      "\n",
      "http://users.nber.org/%7Erdehejia/nswdata2.html"
     ]
    },
    {
     "cell_type": "code",
     "collapsed": false,
     "input": [
      "names = ['Treated', 'Age', 'Education', 'Black', 'Hispanic', 'Married',\n",
      "         'Nodegree', 'RE74', 'RE75', 'RE78']\n",
      "treated = pd.read_table('/Users/Kellie/Documents/ModelMatch/Data/nswre74_treated.txt', sep = '\\s+',\n",
      "                        header = None, names = names)\n",
      "treated['dataset'] = pd.Series(['treated']*len(treated.index))\n",
      "control = pd.read_table('/Users/Kellie/Documents/ModelMatch/Data/nswre74_control.txt', sep='\\s+', \n",
      "                        header = None, names = names)\n",
      "control['dataset'] = pd.Series(['control']*len(control.index))\n",
      "cps = pd.read_table('/Users/Kellie/Documents/ModelMatch/Data/cps_controls.txt', sep='\\s+', \n",
      "                        header = None, names = names)\n",
      "cps['dataset'] = pd.Series(['CPS']*len(cps.index))\n",
      "psid = pd.read_table('/Users/Kellie/Documents/ModelMatch/Data/psid_controls.txt', sep='\\s+', \n",
      "                        header = None, names = names)\n",
      "psid['dataset'] = pd.Series(['PSID']*len(psid.index))\n",
      "\n",
      "\n",
      "data = pd.concat([treated, cps])\n",
      "data.index = range(len(data.index))\n",
      "#print data.head()\n",
      "\n",
      "# Verify some characteristics match the Dehejia & Wahba paper, see table 1\n",
      "print mean(treated.Age), mean(control.Age)\n",
      "print mean(treated.Education), mean(control.Education)\n",
      "print mean(treated.Black), mean(control.Black)"
     ],
     "language": "python",
     "metadata": {},
     "outputs": [
      {
       "output_type": "stream",
       "stream": "stdout",
       "text": [
        "25.8162162162 25.0538461538\n",
        "10.3459459459 10.0884615385\n",
        "0.843243243243 0.826923076923\n"
       ]
      }
     ],
     "prompt_number": 2
    },
    {
     "cell_type": "markdown",
     "metadata": {},
     "source": [
      "<b>Compute propensity scores</b> to start.  We need to compute some additional variables that Dehejia and Wahba use in the model for propensity scores.  Refer to the appendix of their paper to see how they decided to include these variables."
     ]
    },
    {
     "cell_type": "code",
     "collapsed": false,
     "input": [
      "data['Age2'] = data['Age']**2\n",
      "data['Age3'] = data['Age']**3\n",
      "data['Education2'] = data['Education']**2\n",
      "# I originally assumed unemployment would be 1 if RE74 were 0 and 0 else; this is not the case.\n",
      "# The indicator is actually flipped in table 2, row 1 (the mean there is 1-mean here); doesn't matter for the model\n",
      "data['U74'] = (data['RE74']==0).astype('int')   \n",
      "data['U75'] = (data['RE75']==0).astype('int')\n",
      "data['SchoolRE74'] = data['Education']*data['RE74']\n",
      "\n",
      "\n",
      "predictors = [col for col in data.columns if col not in ['Treated', 'RE78', 'dataset']]\n",
      "data['Propensity'] = computePropensityScore(data[predictors], data.Treated)\n",
      "\n",
      "pairs = Match(data.Treated, data.Propensity, caliper = 0, caliper_method = \"none\", replace = False)\n",
      "manypairs = MatchMany(data.Treated, data.Propensity, method = \"caliper\", caliper = 0.00001)\n",
      "data_matched = whichMatched(pairs, data) \n",
      "data_manymatched = whichMatched(manypairs, data, many = True)\n",
      "data_manymatched_unique = whichMatched(manypairs, data, many = True, unique = True)\n",
      "print \"Unmatched treated individuals, 1-1 matching: \" + str(len(data.Treated[data.Treated==1]) - len(pairs.keys()))\n",
      "print pairs.items()[:5], '\\n' # The first 5 matched pairs, (treated, control)\n",
      "print \"Unmatched treated individuals, 1-many matching: \" + str(len(data.Treated[data.Treated==1]) - len(manypairs.keys()))\n",
      "print manypairs.items()[:5]"
     ],
     "language": "python",
     "metadata": {},
     "outputs": [
      {
       "output_type": "stream",
       "stream": "stdout",
       "text": [
        "Unmatched treated individuals, 1-1 matching: 0\n",
        "[(0, 2436), (1, 2434), (2, 6883), (3, 2653), (4, 8720)] \n",
        "\n",
        "Unmatched treated individuals, 1-many matching: 0\n",
        "[(0, [2436]), (1, [2434]), (2, array([1779])), (3, [5796]), (4, [5796])]\n"
       ]
      }
     ],
     "prompt_number": 3
    },
    {
     "cell_type": "code",
     "collapsed": false,
     "input": [
      "# Balance diagnostics:\n",
      "print 'Before matching:'\n",
      "means, se = Balance(data.Treated, data[names[1:-1]])\n",
      "for i in range(len(means)):\n",
      "    print 'Difference in ' + means.keys()[i] + ' means:' + str(means[i]) + '+/-' + str(se[i])\n",
      "print '\\nOne-one matching:'\n",
      "means, se = Balance(data_matched.Treated, data_matched[names[1:-1]])\n",
      "for i in range(len(means)):\n",
      "    print 'Difference in ' + means.keys()[i] + ' means:' + str(means[i]) + '+/-' + str(se[i])\n",
      "print '\\nOne-many matching:'\n",
      "means, se = Balance(data_manymatched.Treated, data_manymatched[names[1:-1]])\n",
      "for i in range(len(means)):\n",
      "    print 'Difference in ' + means.keys()[i] + ' means:' + str(means[i]) + '+/-' + str(se[i])"
     ],
     "language": "python",
     "metadata": {},
     "outputs": [
      {
       "output_type": "stream",
       "stream": "stdout",
       "text": [
        "Before matching:\n",
        "Difference in Age means:6.534559025+/-0.538778552979\n",
        "Difference in Education means:1.54002428834+/-0.152451131033\n",
        "Difference in Black means:0.758803942482+/-0.0274356417894\n",
        "Difference in Hispanic means:0.019150867894+/-0.0179516819678\n",
        "Difference in Married means:0.49085510744+/-0.0296931115533\n",
        "Difference in Nodegree means:0.381960064335+/-0.0343249757194\n",
        "Difference in RE74 means:11067.0056061+/-374.398744696\n",
        "Difference in RE75 means:11292.627513+/-252.421190968\n",
        "\n",
        "One-one matching:\n",
        "Difference in Age means:0.0994475138122+/-0.78406746733\n",
        "Difference in Education means:0.414364640884+/-0.207671613757\n",
        "Difference in Black means:0.00552486187845+/-0.0383923796375\n",
        "Difference in Hispanic means:0.0110497237569+/-0.024075271963\n",
        "Difference in Married means:0.00552486187845+/-0.0414016633071\n",
        "Difference in Nodegree means:0.138121546961+/-0.050293442103\n",
        "Difference in RE74 means:599.573375138+/-529.921426584\n",
        "Difference in RE75 means:117.019984751+/-352.503703231\n",
        "\n",
        "One-many matching:\n",
        "Difference in Age means:0.663987945756+/-0.683869308667\n",
        "Difference in Education means:0.594955075618+/-0.186284448256\n",
        "Difference in Black means:0.22698439273+/-0.0393587857769\n",
        "Difference in Hispanic means:0.0102684301579+/-0.0218887918438\n",
        "Difference in Married means:0.0827241103484+/-0.0392653662632\n",
        "Difference in Nodegree means:0.176404933311+/-0.0447817864733\n",
        "Difference in RE74 means:2047.80612663+/-531.191288129\n",
        "Difference in RE75 means:1556.9221247+/-377.623855043\n"
       ]
      }
     ],
     "prompt_number": 4
    },
    {
     "cell_type": "code",
     "collapsed": false,
     "input": [
      "# For one-one matching:\n",
      "g1, g2 = data.Propensity[data.Treated==1], data.Propensity[data.Treated==0]\n",
      "print \"The first five matched pairs of propensity scores: \" + str(zip(g1[pairs.keys()], g2[pairs.values()])[:5])\n",
      "print \"Mean propensity score for treatment group:\" + str(mean(g1))\n",
      "print \"Mean propensity score for matched treatment group:\" + str(mean(data_matched.Propensity[data_matched.Treated == 1]))\n",
      "print \"Mean propensity score for control group:\" + str(mean(g2))\n",
      "print \"Mean propensity score for matched controls:\" + str(mean(data_matched.Propensity[data_matched.Treated == 0]))\n",
      "\n",
      "\n",
      "print \"Estimated average treatment effect:\" + str(averageTreatmentEffect(groups = data_matched.Treated, response = data_matched.RE78, matches = pairs))\n",
      "#print \"Bootstrap SE: \" + str(bootstrapATE(groups = data.Treated, response = data.RE78, propensity = data.Propensity, B = 100, caliper = 0, replace = False))\n",
      "\n",
      "lmEstim, lmSE = regressAverageTreatmentEffect(data_matched.Treated, data_matched.RE78, data_matched[names[1:-1]])\n",
      "print \"Estimated ATE by regression:\" + str(lmEstim) + \"+/-\" + str(lmSE)\n",
      "print \"Bootstrap SE: \" + str(bootstrapRegression(data.Treated, data.RE78, data.Propensity, data[names[1:-1]], B = 50, caliper = 0, replace = False))"
     ],
     "language": "python",
     "metadata": {},
     "outputs": [
      {
       "output_type": "stream",
       "stream": "stdout",
       "text": [
        "The first five matched pairs of propensity scores: [(0.38504995557159294, 0.38335405337811473), (0.4169942349864495, 0.41573246816610482), (0.70921047621291744, 0.52241746055927318), (0.89825161444674562, 0.41945596438842953), (0.90609911082601302, 0.39137669290553473)]\n",
        "Mean propensity score for treatment group:0.420716311302\n",
        "Mean propensity score for matched treatment group:0.420716311302\n",
        "Mean propensity score for control group:0.00734451860846\n",
        "Mean propensity score for matched controls:0.298419952153\n",
        "Estimated average treatment effect:933.538971215\n",
        "Estimated ATE by regression:1314.71362037+/-742.249092807\n",
        "Bootstrap SE: 786.422898511"
       ]
      },
      {
       "output_type": "stream",
       "stream": "stdout",
       "text": [
        "\n"
       ]
      }
     ],
     "prompt_number": 5
    },
    {
     "cell_type": "code",
     "collapsed": false,
     "input": [
      "# For one-many matching:\n",
      "print \"The first five matched pairs of propensity scores:\"\n",
      "for i in range(5):\n",
      "    print g1[manypairs.keys()[i]], list(g2[manypairs.values()[i]])\n",
      "print '\\n'\n",
      "print \"Mean propensity score for treatment group:\" + str(mean(g1))\n",
      "print \"Mean propensity score for matched treatment group:\" + str(mean(data_manymatched.Propensity[data_manymatched.Treated == 1]))\n",
      "print \"Mean propensity score for control group:\" + str(mean(g2))\n",
      "print \"Mean propensity score for matched controls:\" + str(mean(data_manymatched.Propensity[data_manymatched.Treated == 0]))\n",
      "\n",
      "print \"Estimated average treatment effect:\" + str(averageTreatmentEffect(groups = data_manymatched_unique.Treated, response = data_manymatched_unique.RE78, matches = manypairs))\n",
      "#print \"Bootstrap SE: \" + str(bootstrapManyATE(groups = data.Treated, response = data.RE78, propensity = data.Propensity, method = \"caliper\", caliper = 0.00001, caliper_method = \"propensity\", B = 100))\n",
      "\n",
      "lmEstim, lmSE = regressAverageTreatmentEffect(data_manymatched_unique.Treated, data_manymatched_unique.RE78, data_manymatched_unique[names[1:-1]], matches = manypairs, verbosity = 1)\n",
      "print \"Estimated ATE by regression:\" + str(lmEstim) + \"+/-\" + str(lmSE)\n",
      "print \"Bootstrap SE: \" + str(bootstrapManyRegression(data.Treated, data.RE78, data.Propensity, data[names[1:-1]], method = \"caliper\", caliper = 0.00001, caliper_method = \"propensity\", replace = True))"
     ],
     "language": "python",
     "metadata": {},
     "outputs": [
      {
       "output_type": "stream",
       "stream": "stdout",
       "text": [
        "The first five matched pairs of propensity scores:\n",
        "0.385049955572 [0.38335405337811473]\n",
        "0.416994234986 [0.41573246816610482]\n",
        "0.709210476213 [0.70921047621291744]\n",
        "0.898251614447 [0.90564115774201215]\n",
        "0.906099110826 [0.90564115774201215]\n",
        "\n",
        "\n",
        "Mean propensity score for treatment group:0.420716311302\n",
        "Mean propensity score for matched treatment group:0.420716311302\n",
        "Mean propensity score for control group:0.00734451860846\n",
        "Mean propensity score for matched controls:0.278414172684\n",
        "Estimated average treatment effect:985.234795327"
       ]
      },
      {
       "output_type": "stream",
       "stream": "stdout",
       "text": [
        "\n",
        "1    359\n",
        "2     22\n",
        "3      9\n",
        "4      5\n",
        "7      2\n",
        "9      1\n",
        "5      1\n",
        "dtype: int64 (399,)\n",
        "Estimated ATE by regression:1225.3923225+/-739.678281421\n",
        "Bootstrap SE: inf"
       ]
      },
      {
       "output_type": "stream",
       "stream": "stdout",
       "text": [
        "\n"
       ]
      }
     ],
     "prompt_number": 6
    },
    {
     "cell_type": "heading",
     "level": 1,
     "metadata": {},
     "source": [
      "Automate the process in case we decide to run it many times varying the parameters:"
     ]
    },
    {
     "cell_type": "code",
     "collapsed": false,
     "input": [
      "def runMatching(treatment_data, control_data, many = \"onemany\", method = \"caliper\", k = 1, caliper = 0.05, caliper_method = \"propensity\", replace = False, verbosity=0):\n",
      "    data = pd.concat([treatment_data, control_data])\n",
      "    data.index = range(len(data.index))\n",
      "    \n",
      "    matchfun = dict( \\\n",
      "                 oneone = lambda groups, propensity: Match(groups, propensity, caliper = caliper, caliper_method = caliper_method, replace = replace),\n",
      "                 onemany = lambda groups, propensity: MatchMany(groups, propensity, method = method, k = k, caliper = caliper, caliper_method = caliper_method, replace = replace)\n",
      "                 )\n",
      "    try:\n",
      "        matchmethod = matchfun[many]\n",
      "    except KeyError:\n",
      "        raise ValueError(\"Unrecognized matching method: \" + many) \n",
      "    many = True if many==\"onemany\" else False\n",
      "    \n",
      "    data['Age2'] = data['Age']**2\n",
      "    data['Age3'] = data['Age']**3\n",
      "    data['Education2'] = data['Education']**2\n",
      "    # I originally assumed unemployment would be 1 if RE74 were 0 and 0 else; this is not the case.\n",
      "    # The indicator is actually flipped in table 2, row 1 (the mean there is 1-mean here); doesn't matter for the model\n",
      "    data['U74'] = (data['RE74']==0).astype('int')   \n",
      "    data['U75'] = (data['RE75']==0).astype('int')\n",
      "    data['SchoolRE74'] = data['Education']*data['RE74']\n",
      "    predictors = [col for col in data.columns if col not in ['Treated', 'RE78', 'dataset']]\n",
      "\n",
      "    data['Propensity'] = computePropensityScore(data[predictors], data.Treated)\n",
      "    pairs = matchmethod(data.Treated, data.Propensity)\n",
      "    \n",
      "    if verbosity>0:\n",
      "        print 'Before matching:'\n",
      "        means, se = Balance(data.Treated, data[names[1:-1]])\n",
      "        for i in range(len(means)):\n",
      "            print 'Difference in ' + means.keys()[i] + ' means:' + str(means[i]) + '+/-' + str(se[i])\n",
      "        subset = whichMatched(pairs, data, many = many, unique = False)\n",
      "        print 'After matching:'\n",
      "        means, se = Balance(subset.Treated, subset[names[1:-1]])\n",
      "        for i in range(len(means)):\n",
      "            print 'Difference in ' + means.keys()[i] + ' means:' + str(means[i]) + '+/-' + str(se[i])\n",
      "    \n",
      "    subset = whichMatched(pairs, data, many = many, unique = True)\n",
      "    \n",
      "    print \"Mean propensity score for treatment group:\" + str(data.Propensity[data.Treated==1].mean())\n",
      "   # print \"Mean propensity score for matched treatment group:\" + str(mean(data_matched.Propensity[data_matched.Treated == 1]))\n",
      "    print \"Mean propensity score for control group:\" + str(data.Propensity[data.Treated==0].mean())\n",
      "    print \"Mean propensity score for matched controls:\" + str(mean(subset.Propensity[subset.Treated == 0]))\n",
      "\n",
      "\n",
      "\n",
      "    if many:\n",
      "        print \"Estimated average treatment effect:\" + str(averageTreatmentEffect(groups = subset.Treated, response = subset.RE78, matches = pairs))\n",
      "        print \"Bootstrap SE: \" + str(bootstrapManyATE(groups = data.Treated, response = data.RE78, propensity = data.Propensity,method = method, k = k, caliper = caliper, caliper_method = caliper_method, replace = replace))\n",
      "        lmEstim, lmSE = regressAverageTreatmentEffect(subset.Treated, subset.RE78, subset[names[1:-1]], pairs, verbosity)\n",
      "        print \"Estimated ATE by regression:\" + str(lmEstim) + \"+/-\" + str(lmSE)\n",
      "        print \"Bootstrap SE: \" + str(bootstrapManyRegression(data.Treated, data.RE78, data.Propensity, data[names[1:-1]], method = method, k = k, caliper = caliper, caliper_method = caliper_method, replace = replace))\n",
      "    else:\n",
      "        print \"Estimated average treatment effect:\" + str(averageTreatmentEffect(groups = subset.Treated, response = subset.RE78, matches = pairs))\n",
      "        print \"Bootstrap SE: \" + str(bootstrapATE(groups = data.Treated, response = data.RE78, propensity = data.Propensity, caliper = caliper, caliper_method = caliper_method, replace = replace))\n",
      "        lmEstim, lmSE = regressAverageTreatmentEffect(subset.Treated, subset.RE78, subset[names[1:-1]], None, verbosity)\n",
      "        print \"Estimated ATE by regression:\" + str(lmEstim) + \"+/-\" + str(lmSE)\n",
      "        print \"Bootstrap SE: \" + str(bootstrapRegression(data.Treated, data.RE78, data.Propensity, data[names[1:-1]], caliper = caliper, caliper_method = caliper_method, replace = replace))\n",
      "\n",
      "    return\n",
      "\n",
      "\n",
      "\n",
      "\n",
      "\n",
      "\n",
      "runMatching(treated, cps, many = \"onemany\", method = \"caliper\", k = 1, caliper = 0.00001, caliper_method = \"propensity\", replace = True)"
     ],
     "language": "python",
     "metadata": {},
     "outputs": [
      {
       "output_type": "stream",
       "stream": "stdout",
       "text": [
        "Mean propensity score for treatment group:0.425356679505\n",
        "Mean propensity score for control group:0.00664763721176\n",
        "Mean propensity score for matched controls:0.135670128902\n",
        "Estimated average treatment effect:726.884502476\n",
        "Bootstrap SE: 938.112076451"
       ]
      },
      {
       "output_type": "stream",
       "stream": "stdout",
       "text": [
        "\n",
        "Estimated ATE by regression:583.686312273+/-765.867137445\n",
        "Bootstrap SE: 1.46173467897e+76"
       ]
      },
      {
       "output_type": "stream",
       "stream": "stdout",
       "text": [
        "\n"
       ]
      }
     ],
     "prompt_number": 19
    },
    {
     "cell_type": "code",
     "collapsed": false,
     "input": [
      "Xmat = data[names[1:-1]]\n",
      "Xmat = sm.add_constant(Xmat, prepend=False)\n",
      "linmodel = sm.OLS(data.RE78, Xmat).fit()\n",
      "pred = linmodel.fittedvalues\n",
      "\n",
      "print linmodel.summary()\n",
      "#print zip(pred, data.RE78)[:10]\n",
      "print '4 bins: '\n",
      "pLeft, pRight, pBoth, tst, dist = modelMatch(predicted = pred, response = data.RE78, conditions = data.Treated,\n",
      "                                             testStatistic=\"difference_in_means\", nbins = 4, verbosity = 1)\n",
      "print pLeft, pRight, pBoth, tst\n",
      "print '\\n10 bins: '\n",
      "pLeft, pRight, pBoth, tst, dist = modelMatch(predicted = pred, response = data.RE78, conditions = data.Treated,\n",
      "                                             testStatistic=\"difference_in_means\", nbins = 10, verbosity = 1)\n",
      "print pLeft, pRight, pBoth, tst"
     ],
     "language": "python",
     "metadata": {},
     "outputs": [
      {
       "output_type": "stream",
       "stream": "stdout",
       "text": [
        "                            OLS Regression Results                            \n",
        "==============================================================================\n",
        "Dep. Variable:                   RE78   R-squared:                       0.040\n",
        "Model:                            OLS   Adj. R-squared:                  0.022\n",
        "Method:                 Least Squares   F-statistic:                     2.263\n",
        "Date:                Fri, 08 Aug 2014   Prob (F-statistic):             0.0223\n",
        "Time:                        10:57:53   Log-Likelihood:                -4537.7\n",
        "No. Observations:                 445   AIC:                             9093.\n",
        "Df Residuals:                     436   BIC:                             9130.\n",
        "Df Model:                           8                                         \n",
        "==============================================================================\n",
        "                 coef    std err          t      P>|t|      [95.0% Conf. Int.]\n",
        "------------------------------------------------------------------------------\n",
        "Age           57.2069     45.583      1.255      0.210       -32.383   146.797\n",
        "Education    367.3472    228.686      1.606      0.109       -82.118   816.812\n",
        "Black      -2250.6341   1176.385     -1.913      0.056     -4562.725    61.457\n",
        "Hispanic    -158.4264   1554.975     -0.102      0.919     -3214.605  2897.752\n",
        "Married      -73.1918    885.292     -0.083      0.934     -1813.163  1666.780\n",
        "Nodegree    -436.9303   1001.341     -0.436      0.663     -2404.987  1531.126\n",
        "RE74           0.0701      0.078      0.901      0.368        -0.083     0.223\n",
        "RE75           0.0767      0.136      0.564      0.573        -0.191     0.344\n",
        "const       2095.2639   3360.314      0.624      0.533     -4509.165  8699.693\n",
        "==============================================================================\n",
        "Omnibus:                      292.422   Durbin-Watson:                   2.020\n",
        "Prob(Omnibus):                  0.000   Jarque-Bera (JB):             4068.603\n",
        "Skew:                           2.622   Prob(JB):                         0.00\n",
        "Kurtosis:                      16.854   Cond. No.                     7.10e+04\n",
        "==============================================================================\n",
        "\n",
        "Warnings:\n",
        "[1] The condition number is large, 7.1e+04. This might indicate that there are\n",
        "strong multicollinearity or other numerical problems.\n",
        "4 bins: \n",
        "\n",
        "Number of observations assigned to each bin:\n",
        "1    109\n",
        "3    111\n",
        "2    111\n",
        "0    114\n",
        "dtype: int64\n",
        "\n",
        "Test statistic for each stratum:\n",
        "[1052.8097477272709, 972.87589961538788, 335.68163296853709, -110.94567660818939]\n",
        "0.817"
       ]
      },
      {
       "output_type": "stream",
       "stream": "stdout",
       "text": [
        " 0.183 0.387 2250.4216037\n",
        "\n",
        "10 bins: \n",
        "\n",
        "Number of observations assigned to each bin:\n",
        "8    44\n",
        "6    44\n",
        "5    44\n",
        "3    44\n",
        "1    44\n",
        "9    45\n",
        "7    45\n",
        "4    45\n",
        "2    45\n",
        "0    45\n",
        "dtype: int64\n",
        "\n",
        "Test statistic for each stratum:\n",
        "[-1189.1608112068952, 3473.8355861052628, 1215.7734901260515, 228.10967141612082, -2077.1562659919027, -2020.0372138095236, -1833.0435256410246, -1803.2830732793509, -372.8209863636348, -511.6453550420174]\n",
        "0.241"
       ]
      },
      {
       "output_type": "stream",
       "stream": "stdout",
       "text": [
        " 0.759 0.448 -4889.42848369\n"
       ]
      }
     ],
     "prompt_number": 13
    },
    {
     "cell_type": "code",
     "collapsed": false,
     "input": [],
     "language": "python",
     "metadata": {},
     "outputs": []
    }
   ],
   "metadata": {}
  }
 ]
}