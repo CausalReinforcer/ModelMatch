{
 "metadata": {
  "name": "ModelMatch.ipynb"
 },
 "nbformat": 3,
 "nbformat_minor": 0,
 "worksheets": [
  {
   "cells": [
    {
     "cell_type": "markdown",
     "metadata": {},
     "source": [
      "Last modified 13 July 2014 by KO\n",
      "\n",
      "This notebook contains functions to implement model-based matching, including stratifying samples, computing test statistics, and conducting permutation tests."
     ]
    },
    {
     "cell_type": "code",
     "collapsed": false,
     "input": [
      "%matplotlib inline\n",
      "import math\n",
      "import numpy as np\n",
      "import scipy\n",
      "import pandas as pd\n",
      "import matplotlib.pyplot as plt\n",
      "from permute import *"
     ],
     "language": "python",
     "metadata": {},
     "outputs": [],
     "prompt_number": 5
    },
    {
     "cell_type": "code",
     "collapsed": false,
     "input": [
      "def binByQuantiles(predicted, g = 4):\n",
      "    ''' \n",
      "    Stratify observations by their predicted response values.\n",
      "    Use the quantiles of the sample to return g groups.\n",
      "    \n",
      "    Inputs: \n",
      "    predicted = pandas series containing model-predicted response\n",
      "    g = number of groups\n",
      "    \n",
      "    Dependencies: numpy (as np), stats from scipy, pandas as pd\n",
      "    '''\n",
      "    n = len(predicted)\n",
      "    q = (np.arange(g+1))*100.0/g\n",
      "    quantiles = stats.scoreatpercentile(predicted, q)\n",
      "    groups = pd.Series(np.zeros(n), index = predicted.index)\n",
      "    # potential problem - how to handle ties in the quantiles?\n",
      "    for i in np.arange(g)+1:\n",
      "        groups[predicted>quantiles[i]] += 1\n",
      "    print groups.value_counts()\n",
      "    return groups\n"
     ],
     "language": "python",
     "metadata": {},
     "outputs": [],
     "prompt_number": 6
    },
    {
     "cell_type": "code",
     "collapsed": false,
     "input": [
      "def modelMatch(predicted, response, conditions, bin_method = \"quantile\", nbins = 4,\n",
      "               testStatistic = \"difference_in_means\"):\n",
      "    '''\n",
      "    This function is a wrapper for the binning and stratified permutation test methods.\n",
      "    \n",
      "    Inputs: \n",
      "    predicted = response predicted using all variables EXCEPT the treatment\n",
      "    response = measured response\n",
      "    conditions = treatment\n",
      "    bin_method = a string to specify binning method. For now, the only option is \"quantile\"\n",
      "    nbins = number of bins\n",
      "    testStatistic = a string to specify the test statistic to be used in the stratified permutation test.\n",
      "        For now, the options are \"difference_in_means\", \"pearson_r\"\n",
      "        \n",
      "    Outputs:\n",
      "    pLeft, pRight, pBoth = permutation test p-values\n",
      "    tst = test statistic\n",
      "    dist = permutation distribution of test statistics\n",
      "    '''\n",
      "    binning = dict( \\\n",
      "             quantile = lambda u: binByQuantiles(u, g = nbins)\n",
      "            )\n",
      "    try:\n",
      "        stratify = binning[bin_method]\n",
      "    except KeyError:\n",
      "        raise ValueError(\"Unrecognized binning method: \" + bin_method) \n",
      "    \n",
      "    stats = dict( \\\n",
      "             difference_in_means = lambda u: stratifiedPermutationTest(u, conditions, response, iterations=1000, testStatistic=stratifiedPermutationTestMean),\n",
      "             pearson_r = lambda u: stratifiedPermutationTest(u, conditions, response-predicted, iterations=1000, testStatistic=stratifiedPermutationTestPearsonr) \\\n",
      "             )\n",
      "    try:\n",
      "        tst = stats[testStatistic]\n",
      "    except KeyError:\n",
      "        raise ValueError(\"Unrecognized test statistic: \" + testStatistic)  \n",
      "        \n",
      "    groups = stratify(predicted)\n",
      "    pLeft, pRight, pBoth, tst, dist = tst(groups)\n",
      "    return pLeft, pRight, pBoth, tst, dist"
     ],
     "language": "python",
     "metadata": {},
     "outputs": [],
     "prompt_number": 7
    },
    {
     "cell_type": "markdown",
     "metadata": {},
     "source": [
      "Example code for how to call the functions.\n",
      "Question: does the treatment help explain/predict RE78?"
     ]
    },
    {
     "cell_type": "code",
     "collapsed": false,
     "input": [
      "names = ['Treated', 'Age', 'Education', 'Black', 'Hispanic', 'Married',\n",
      "         'Nodegree', 'RE74', 'RE75', 'RE78']\n",
      "treated = pd.read_table('/Users/Kellie/Documents/ModelMatch/Data/nswre74_treated.txt', sep = '\\s+',\n",
      "                        header = None, names = names)\n",
      "control = pd.read_table('/Users/Kellie/Documents/ModelMatch/Data/nswre74_control.txt', sep='\\s+', \n",
      "                        header = None, names = names)\n",
      "data = pd.concat([treated, control])\n",
      "data.head()\n",
      "\n",
      "\n",
      "\n",
      "pred = data.RE78 + random.random(445) #- (500*(data.Treated == 1))*random.random(445)\n",
      "pLeft, pRight, pBoth, tst, dist = modelMatch(predicted = pred, response = data.RE78, conditions = data.Treated,\n",
      "                                             testStatistic=\"pearson_r\")\n",
      "print pLeft, pRight, pBoth, tst\n"
     ],
     "language": "python",
     "metadata": {},
     "outputs": [
      {
       "output_type": "stream",
       "stream": "stdout",
       "text": [
        "0    112\n",
        "3    111\n",
        "2    111\n",
        "1    111\n",
        "dtype: int64\n",
        "0.719"
       ]
      },
      {
       "output_type": "stream",
       "stream": "stdout",
       "text": [
        " 0.281 0.281 0.0907745883413\n"
       ]
      }
     ],
     "prompt_number": 8
    },
    {
     "cell_type": "code",
     "collapsed": false,
     "input": [],
     "language": "python",
     "metadata": {},
     "outputs": []
    }
   ],
   "metadata": {}
  }
 ]
}