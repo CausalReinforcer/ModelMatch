{
 "metadata": {
  "name": "ModelMatch.ipynb",
  "signature": "sha256:69902d7697f9bb57c71f645fd75942934980effa28904ce012e44e0bc023af56"
 },
 "nbformat": 3,
 "nbformat_minor": 0,
 "worksheets": [
  {
   "cells": [
    {
     "cell_type": "markdown",
     "metadata": {},
     "source": [
      "Last modified 16 July 2014 by KO & PBS\n",
      "\n",
      "This notebook contains functions to implement model-based matching, including stratifying samples, computing test statistics, and conducting permutation tests."
     ]
    },
    {
     "cell_type": "code",
     "collapsed": false,
     "input": [
      "%matplotlib inline\n",
      "import math\n",
      "import numpy as np\n",
      "import scipy\n",
      "from scipy import stats\n",
      "import pandas as pd\n",
      "import matplotlib.pyplot as plt\n",
      "from permute import *"
     ],
     "language": "python",
     "metadata": {},
     "outputs": [],
     "prompt_number": 2
    },
    {
     "cell_type": "code",
     "collapsed": false,
     "input": [
      "def binByQuantiles(predicted, nbins = 4, verbosity = 0):\n",
      "    ''' \n",
      "    Stratify observations by their predicted response values.\n",
      "    Use the quantiles of the sample to return nbins groups, each containing\n",
      "    approximately the same number of individuals.\n",
      "    \n",
      "    Inputs: \n",
      "    predicted = pandas series containing model-predicted response\n",
      "    nbins = number of groups\n",
      "    verbosity = flag for printing and debugging. \n",
      "        0 for no printed output, 1 for some verbosity, 2 for maximum verbosity\n",
      "    \n",
      "    Dependencies: numpy (as np), scipy.stats, pandas as pd\n",
      "    '''\n",
      "    n = len(predicted)\n",
      "    q = (np.arange(nbins+1))*100.0/nbins\n",
      "    quantiles = scipy.stats.scoreatpercentile(predicted, q)\n",
      "    groups = pd.Series(np.zeros(n), index = predicted.index)\n",
      "    # potential problem - how to handle ties in the quantiles?\n",
      "    for i in np.arange(nbins)+1:\n",
      "        groups[predicted>quantiles[i]] += 1\n",
      "    if verbosity>0:\n",
      "        if verbosity == 2:\n",
      "            print '\\nQuantiles used for binning:'\n",
      "            print quantiles\n",
      "        print '\\nNumber of observations assigned to each bin:'\n",
      "        print groups.value_counts().order(ascending=True)\n",
      "    return groups\n"
     ],
     "language": "python",
     "metadata": {},
     "outputs": [],
     "prompt_number": 1
    },
    {
     "cell_type": "code",
     "collapsed": false,
     "input": [
      "def modelMatch(predicted, response, conditions, bin_method = \"quantile\", nbins = 4,\n",
      "               testStatistic = \"difference_in_means\", iterations = 1000, verbosity = 0):\n",
      "    '''\n",
      "    This function is a wrapper for the binning and stratified permutation test methods.\n",
      "    \n",
      "    Inputs: \n",
      "    predicted = response predicted using all variables EXCEPT the treatment\n",
      "    response = Series of measured responses, one entry per individual\n",
      "    conditions = Series of treatment levels, one entry per individual\n",
      "    bin_method = a string to specify binning method. For now, the only option is \"quantile\"\n",
      "    nbins = number of bins, default 4\n",
      "    testStatistic = a string to specify the test statistic to be used in the stratified permutation test.\n",
      "        For now, the options are \"difference_in_means\", \"pearson_r\"\n",
      "    iterations = number of iterations for simulating the permutation distribution\n",
      "    verbosity = flag for printing and debugging. \n",
      "        0 for no printed output, 1 for some verbosity, 2 for maximum verbosity\n",
      "        \n",
      "    Outputs:\n",
      "    pLeft, pRight, pBoth = permutation test p-values\n",
      "    tst = test statistic\n",
      "    dist = (empirical) permutation distribution of test statistic\n",
      "    '''\n",
      "    binning = dict( \\\n",
      "             quantile = lambda u: binByQuantiles(u, nbins = nbins, verbosity = verbosity)\n",
      "            )\n",
      "    try:\n",
      "        stratify = binning[bin_method]\n",
      "    except KeyError:\n",
      "        raise ValueError(\"Unrecognized binning method: \" + bin_method) \n",
      "    \n",
      "    stats = dict( \\\n",
      "             difference_in_means = lambda u: stratifiedPermutationTest(u, conditions, response, iterations=iterations, testStatistic=stratifiedPermutationTestMean, verbosity=verbosity),\n",
      "             pearson_r = lambda u: stratifiedPermutationTest(u, conditions, response-predicted, iterations=iterations, testStatistic=stratifiedPermutationTestPearsonr, verbosity=verbosity) \\\n",
      "             )\n",
      "    try:\n",
      "        tst = stats[testStatistic]\n",
      "    except KeyError:\n",
      "        raise ValueError(\"Unrecognized test statistic: \" + testStatistic)  \n",
      "        \n",
      "    groups = stratify(predicted)\n",
      "    pLeft, pRight, pBoth, tst, dist = tst(groups)\n",
      "    return pLeft, pRight, pBoth, tst, dist"
     ],
     "language": "python",
     "metadata": {},
     "outputs": [],
     "prompt_number": 4
    },
    {
     "cell_type": "markdown",
     "metadata": {},
     "source": [
      "Example code for how to call the functions.\n",
      "Question: does the treatment help explain/predict RE78?"
     ]
    },
    {
     "cell_type": "code",
     "collapsed": false,
     "input": [
      "names = ['Treated', 'Age', 'Education', 'Black', 'Hispanic', 'Married',\n",
      "         'Nodegree', 'RE74', 'RE75', 'RE78']\n",
      "treated = pd.read_table('/Users/Kellie/Documents/ModelMatch/Data/nswre74_treated.txt', sep = '\\s+',\n",
      "                        header = None, names = names)\n",
      "treated['dataset'] = pd.Series(['treated']*len(treated.index))\n",
      "control = pd.read_table('/Users/Kellie/Documents/ModelMatch/Data/nswre74_control.txt', sep='\\s+', \n",
      "                        header = None, names = names)\n",
      "control['dataset'] = pd.Series(['control']*len(control.index))\n",
      "cps = pd.read_table('/Users/Kellie/Documents/ModelMatch/Data/cps_controls.txt', sep='\\s+', \n",
      "                        header = None, names = names)\n",
      "cps['dataset'] = pd.Series(['CPS']*len(cps.index))\n",
      "psid = pd.read_table('/Users/Kellie/Documents/ModelMatch/Data/psid_controls.txt', sep='\\s+', \n",
      "                        header = None, names = names)\n",
      "psid['dataset'] = pd.Series(['PSID']*len(psid.index))\n",
      "data = pd.concat([treated, control])\n",
      "data.index = range(len(data.index))\n",
      "print data.head()\n",
      "\n",
      "\n",
      "pred = data.RE78 + random.random(445) - (500*(data.Treated == 1))*random.random(445)\n",
      "pLeft, pRight, pBoth, tst, dist = modelMatch(predicted = pred, response = data.RE78, conditions = data.Treated,\n",
      "                                             testStatistic=\"pearson_r\", verbosity = 2)\n",
      "print pLeft, pRight, pBoth, tst\n"
     ],
     "language": "python",
     "metadata": {},
     "outputs": [
      {
       "output_type": "stream",
       "stream": "stdout",
       "text": [
        "   Treated  Age  Education  Black  Hispanic  Married  Nodegree  RE74  RE75  \\\n",
        "0        1   37         11      1         0        1         1     0     0   \n",
        "1        1   22          9      0         1        0         1     0     0   \n",
        "2        1   30         12      1         0        0         0     0     0   \n",
        "3        1   27         11      1         0        0         1     0     0   \n",
        "4        1   33          8      1         0        0         1     0     0   \n",
        "\n",
        "         RE78  dataset  \n",
        "0   9930.0460  treated  \n",
        "1   3595.8940  treated  \n",
        "2  24909.4500  treated  \n",
        "3   7506.1460  treated  \n",
        "4    289.7899  treated  \n",
        "\n",
        "Quantiles used for binning:\n",
        "[ -4.86162621e+02   7.41037959e-01   3.63731082e+03   7.95259759e+03\n",
        "   6.00202056e+04]\n",
        "\n",
        "Number of observations assigned to each bin:\n",
        "0    112\n",
        "1    111\n",
        "2    111\n",
        "3    111\n",
        "dtype: int64\n",
        "\n",
        "Test statistic for each stratum:\n",
        "[0.7837452697436248, 0.81389611673214346, 0.78757386331013002, 0.86295603664133591]\n",
        "1.0"
       ]
      },
      {
       "output_type": "stream",
       "stream": "stdout",
       "text": [
        " 0.0 0.0 0.811979231603\n"
       ]
      }
     ],
     "prompt_number": 5
    },
    {
     "cell_type": "code",
     "collapsed": false,
     "input": [],
     "language": "python",
     "metadata": {},
     "outputs": [],
     "prompt_number": 15
    },
    {
     "cell_type": "code",
     "collapsed": false,
     "input": [],
     "language": "python",
     "metadata": {},
     "outputs": []
    }
   ],
   "metadata": {}
  }
 ]
}